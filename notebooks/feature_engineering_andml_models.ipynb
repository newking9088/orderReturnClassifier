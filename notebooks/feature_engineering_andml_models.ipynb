{
 "cells": [
  {
   "cell_type": "markdown",
   "metadata": {},
   "source": [
    "## Part II: Machine Learning and Business Use Case\n",
    "Now we have a basic understanding of why customers returned orders. Next, we want to use machine learning to predict which orders are most likely to be returned. In this part, we will generate several features based on our previous findings and our customer's requirements."
   ]
  },
  {
   "cell_type": "code",
   "execution_count": 65,
   "metadata": {},
   "outputs": [],
   "source": [
    "import pandas as pd\n",
    "import numpy as np\n",
    "import matplotlib.pyplot as plt\n",
    "from sklearn.ensemble import RandomForestClassifier\n",
    "from sklearn.linear_model import LogisticRegression\n",
    "from sklearn.metrics import confusion_matrix, classification_report, ConfusionMatrixDisplay, PrecisionRecallDisplay, RocCurveDisplay,\\\n",
    "roc_curve, roc_auc_score\n",
    "from sklearn.model_selection import train_test_split\n",
    "\n",
    "# option to display all dataframe columns\n",
    "pd.options.display.max_columns = None\n",
    "\n",
    "# Update rcParams in mpl\n",
    "rcParams = {\n",
    "        'font.size': 20,                # all fonts-size in plot\n",
    "        'font.weight': 'bold',          # bold all fonts\n",
    "        'figure.titleweight': 'bold',   # bold supertitle\n",
    "        'axes.linewidth' : 6,\n",
    "        'xtick.major.width': 6,\n",
    "        'axes.spines.top': True,\n",
    "        'axes.spines.right': True,\n",
    "        'lines.linewidth': 6,\n",
    "        'legend.fontsize': 'large',\n",
    "        'xtick.labelsize': 'large',\n",
    "        'ytick.labelsize': 'large',\n",
    "        'xtick.labelsize': 20,   # sets x-tick font size\n",
    "        'ytick.labelsize': 20,\n",
    "        'axes.titlepad': 20,   # spacing between suptitle and figure\n",
    "        'axes.facecolor': 'white'\n",
    "    }"
   ]
  },
  {
   "cell_type": "markdown",
   "metadata": {},
   "source": [
    "#### Read raw data"
   ]
  },
  {
   "cell_type": "code",
   "execution_count": 66,
   "metadata": {},
   "outputs": [],
   "source": [
    "# read the csv file into dataframe\n",
    "raw_orders = pd.read_csv('./../data/raw/Orders.csv')\n",
    "raw_returns = pd.read_csv('./../data/raw/Returns.csv')"
   ]
  },
  {
   "cell_type": "markdown",
   "metadata": {},
   "source": [
    "#### Check Raw Data"
   ]
  },
  {
   "cell_type": "code",
   "execution_count": 43,
   "metadata": {},
   "outputs": [
    {
     "name": "stdout",
     "output_type": "stream",
     "text": [
      "<class 'pandas.core.frame.DataFrame'>\n",
      "RangeIndex: 51290 entries, 0 to 51289\n",
      "Data columns (total 24 columns):\n",
      " #   Column          Non-Null Count  Dtype  \n",
      "---  ------          --------------  -----  \n",
      " 0   Row.ID          51290 non-null  int64  \n",
      " 1   Order.ID        51290 non-null  object \n",
      " 2   Order.Date      51290 non-null  object \n",
      " 3   Ship.Date       51290 non-null  object \n",
      " 4   Ship.Mode       51290 non-null  object \n",
      " 5   Customer.ID     51290 non-null  object \n",
      " 6   Customer.Name   51290 non-null  object \n",
      " 7   Segment         51290 non-null  object \n",
      " 8   Postal.Code     9994 non-null   float64\n",
      " 9   City            51290 non-null  object \n",
      " 10  State           51290 non-null  object \n",
      " 11  Country         51290 non-null  object \n",
      " 12  Region          51290 non-null  object \n",
      " 13  Market          51290 non-null  object \n",
      " 14  Product.ID      51290 non-null  object \n",
      " 15  Category        51290 non-null  object \n",
      " 16  Sub.Category    51290 non-null  object \n",
      " 17  Product.Name    51290 non-null  object \n",
      " 18  Sales           51290 non-null  object \n",
      " 19  Quantity        51290 non-null  int64  \n",
      " 20  Discount        51290 non-null  float64\n",
      " 21  Profit          51290 non-null  object \n",
      " 22  Shipping.Cost   51290 non-null  float64\n",
      " 23  Order.Priority  51290 non-null  object \n",
      "dtypes: float64(3), int64(2), object(19)\n",
      "memory usage: 9.4+ MB\n"
     ]
    }
   ],
   "source": [
    "raw_orders.info()"
   ]
  },
  {
   "cell_type": "code",
   "execution_count": 44,
   "metadata": {},
   "outputs": [
    {
     "name": "stdout",
     "output_type": "stream",
     "text": [
      "<class 'pandas.core.frame.DataFrame'>\n",
      "RangeIndex: 1079 entries, 0 to 1078\n",
      "Data columns (total 3 columns):\n",
      " #   Column    Non-Null Count  Dtype \n",
      "---  ------    --------------  ----- \n",
      " 0   Returned  1079 non-null   object\n",
      " 1   Order ID  1079 non-null   object\n",
      " 2   Region    1079 non-null   object\n",
      "dtypes: object(3)\n",
      "memory usage: 25.4+ KB\n"
     ]
    }
   ],
   "source": [
    "raw_returns.info()"
   ]
  },
  {
   "cell_type": "markdown",
   "metadata": {},
   "source": [
    "### Clean Raw Data"
   ]
  },
  {
   "cell_type": "code",
   "execution_count": 45,
   "metadata": {},
   "outputs": [],
   "source": [
    "def clean_orders_data(raw_df, verbose = False):\n",
    "    \"\"\"\n",
    "    Clean the input rows & data and return the corresponding cleaned orders dataframe.\n",
    "    \"\"\"\n",
    "    # Clean rows\n",
    "    if verbose: print(\"Started cleaning the Orders data\")\n",
    "    \n",
    "    clean_df = raw_df.copy(deep = True)\n",
    "    \n",
    "    # Clean 'Profit' and 'Sales' columns\n",
    "    clean_df[['Profit', 'Sales']] = clean_df[['Profit', 'Sales']].apply(lambda x: x.str.replace('$', '').str.replace(',', '').astype(float))\n",
    "    \n",
    "    if verbose: print(\"Cleaned the Profit/Sales columns\")\n",
    "    \n",
    "    # Clean 'Order Date' and 'Ship Date' columns\n",
    "    date_cols = ['Order.Date', 'Ship.Date']\n",
    "    clean_df[date_cols] = clean_df[date_cols].apply(lambda x: pd.to_datetime(x, format='%m/%d/%y'))\n",
    "    \n",
    "    if verbose: print(\"Cleaned the Order Date and Ship Date columns\")\n",
    "    \n",
    "    # Create new Date columns\n",
    "    clean_df['Order.DayOfYear'] = clean_df['Order.Date'].dt.dayofyear\n",
    "    clean_df['Order.WeekOfYear'] = clean_df['Order.Date'].dt.isocalendar().week\n",
    "    clean_df['Order.Month'] = clean_df['Order.Date'].dt.month\n",
    "    clean_df['Order.Year'] = clean_df['Order.Date'].dt.year\n",
    "    \n",
    "    if verbose: \n",
    "        print(\"Added the following new date columns: Order.DayOfYear, Order.WeekOfYear, Order.Month, and Order.Year.\")\n",
    "        print(\"Finished cleaning the orders data.\")\n",
    "    \n",
    "    return clean_df\n"
   ]
  },
  {
   "cell_type": "code",
   "execution_count": 46,
   "metadata": {},
   "outputs": [],
   "source": [
    "def clean_returns_data(raw_df, verbose=False):\n",
    "    \"\"\"\n",
    "    Clean the input Returns raw data and return the corresponding cleaned Returns data.\n",
    "    \"\"\"\n",
    "    if verbose:\n",
    "        print(\"STARTED cleaning the Returns data\")\n",
    "    \n",
    "    # Start clean dataframe: df is a copy of the raw dataframe\n",
    "    clean_df = raw_df.copy()\n",
    "    \n",
    "    # Clean 'Returned' column (transform from object/string to boolean/logical)\n",
    "    clean_df[\"Returned\"] = clean_df[\"Returned\"].apply(lambda x: True if x == 'Yes' else np.nan)\n",
    "\n",
    "    if verbose:\n",
    "        print(\"- Cleaned the Returned column\")\n",
    "    \n",
    "    # Clean column names (rename 'Order ID' to 'Order_ID' to match orders data)\n",
    "    clean_df.rename(columns={'Order ID': 'Order.ID'}, inplace=True)\n",
    "    if verbose:\n",
    "        print(\"- Cleaned/Renamed the column names\")\n",
    "    \n",
    "    print(\"FINISHED cleaning the Returns data\")\n",
    "    return clean_df\n"
   ]
  },
  {
   "cell_type": "code",
   "execution_count": 47,
   "metadata": {},
   "outputs": [
    {
     "name": "stdout",
     "output_type": "stream",
     "text": [
      "Started cleaning the Orders data\n",
      "Cleaned the Profit/Sales columns\n",
      "Cleaned the Order Date and Ship Date columns\n",
      "Added the following new date columns: Order.DayOfYear, Order.WeekOfYear, Order.Month, and Order.Year.\n",
      "Finished cleaning the orders data.\n"
     ]
    }
   ],
   "source": [
    "orders_clean = clean_orders_data(raw_orders, verbose = True)"
   ]
  },
  {
   "cell_type": "code",
   "execution_count": 48,
   "metadata": {},
   "outputs": [
    {
     "name": "stdout",
     "output_type": "stream",
     "text": [
      "STARTED cleaning the Returns data\n",
      "- Cleaned the Returned column\n",
      "- Cleaned/Renamed the column names\n",
      "FINISHED cleaning the Returns data\n"
     ]
    }
   ],
   "source": [
    "returns_clean = clean_returns_data(raw_returns, verbose = True)"
   ]
  },
  {
   "cell_type": "markdown",
   "metadata": {},
   "source": [
    "#### Check the Clean Data"
   ]
  },
  {
   "cell_type": "code",
   "execution_count": 49,
   "metadata": {},
   "outputs": [
    {
     "name": "stdout",
     "output_type": "stream",
     "text": [
      "<class 'pandas.core.frame.DataFrame'>\n",
      "RangeIndex: 51290 entries, 0 to 51289\n",
      "Data columns (total 28 columns):\n",
      " #   Column            Non-Null Count  Dtype         \n",
      "---  ------            --------------  -----         \n",
      " 0   Row.ID            51290 non-null  int64         \n",
      " 1   Order.ID          51290 non-null  object        \n",
      " 2   Order.Date        51290 non-null  datetime64[ns]\n",
      " 3   Ship.Date         51290 non-null  datetime64[ns]\n",
      " 4   Ship.Mode         51290 non-null  object        \n",
      " 5   Customer.ID       51290 non-null  object        \n",
      " 6   Customer.Name     51290 non-null  object        \n",
      " 7   Segment           51290 non-null  object        \n",
      " 8   Postal.Code       9994 non-null   float64       \n",
      " 9   City              51290 non-null  object        \n",
      " 10  State             51290 non-null  object        \n",
      " 11  Country           51290 non-null  object        \n",
      " 12  Region            51290 non-null  object        \n",
      " 13  Market            51290 non-null  object        \n",
      " 14  Product.ID        51290 non-null  object        \n",
      " 15  Category          51290 non-null  object        \n",
      " 16  Sub.Category      51290 non-null  object        \n",
      " 17  Product.Name      51290 non-null  object        \n",
      " 18  Sales             51290 non-null  float64       \n",
      " 19  Quantity          51290 non-null  int64         \n",
      " 20  Discount          51290 non-null  float64       \n",
      " 21  Profit            51290 non-null  float64       \n",
      " 22  Shipping.Cost     51290 non-null  float64       \n",
      " 23  Order.Priority    51290 non-null  object        \n",
      " 24  Order.DayOfYear   51290 non-null  int32         \n",
      " 25  Order.WeekOfYear  51290 non-null  UInt32        \n",
      " 26  Order.Month       51290 non-null  int32         \n",
      " 27  Order.Year        51290 non-null  int32         \n",
      "dtypes: UInt32(1), datetime64[ns](2), float64(5), int32(3), int64(2), object(15)\n",
      "memory usage: 10.2+ MB\n"
     ]
    }
   ],
   "source": [
    "orders_clean.info()"
   ]
  },
  {
   "cell_type": "code",
   "execution_count": 50,
   "metadata": {},
   "outputs": [
    {
     "name": "stdout",
     "output_type": "stream",
     "text": [
      "<class 'pandas.core.frame.DataFrame'>\n",
      "RangeIndex: 1079 entries, 0 to 1078\n",
      "Data columns (total 3 columns):\n",
      " #   Column    Non-Null Count  Dtype \n",
      "---  ------    --------------  ----- \n",
      " 0   Returned  1079 non-null   bool  \n",
      " 1   Order.ID  1079 non-null   object\n",
      " 2   Region    1079 non-null   object\n",
      "dtypes: bool(1), object(2)\n",
      "memory usage: 18.0+ KB\n"
     ]
    }
   ],
   "source": [
    "returns_clean.info()"
   ]
  },
  {
   "cell_type": "markdown",
   "metadata": {},
   "source": [
    "## Feature Engineering"
   ]
  },
  {
   "cell_type": "markdown",
   "metadata": {},
   "source": [
    "#### Merge Orders and Returns Data"
   ]
  },
  {
   "cell_type": "code",
   "execution_count": 51,
   "metadata": {},
   "outputs": [
    {
     "name": "stdout",
     "output_type": "stream",
     "text": [
      "<class 'pandas.core.frame.DataFrame'>\n",
      "RangeIndex: 51290 entries, 0 to 51289\n",
      "Data columns (total 29 columns):\n",
      " #   Column            Non-Null Count  Dtype         \n",
      "---  ------            --------------  -----         \n",
      " 0   Row.ID            51290 non-null  int64         \n",
      " 1   Order.ID          51290 non-null  object        \n",
      " 2   Order.Date        51290 non-null  datetime64[ns]\n",
      " 3   Ship.Date         51290 non-null  datetime64[ns]\n",
      " 4   Ship.Mode         51290 non-null  object        \n",
      " 5   Customer.ID       51290 non-null  object        \n",
      " 6   Customer.Name     51290 non-null  object        \n",
      " 7   Segment           51290 non-null  object        \n",
      " 8   Postal.Code       9994 non-null   float64       \n",
      " 9   City              51290 non-null  object        \n",
      " 10  State             51290 non-null  object        \n",
      " 11  Country           51290 non-null  object        \n",
      " 12  Region            51290 non-null  object        \n",
      " 13  Market            51290 non-null  object        \n",
      " 14  Product.ID        51290 non-null  object        \n",
      " 15  Category          51290 non-null  object        \n",
      " 16  Sub.Category      51290 non-null  object        \n",
      " 17  Product.Name      51290 non-null  object        \n",
      " 18  Sales             51290 non-null  float64       \n",
      " 19  Quantity          51290 non-null  int64         \n",
      " 20  Discount          51290 non-null  float64       \n",
      " 21  Profit            51290 non-null  float64       \n",
      " 22  Shipping.Cost     51290 non-null  float64       \n",
      " 23  Order.Priority    51290 non-null  object        \n",
      " 24  Order.DayOfYear   51290 non-null  int32         \n",
      " 25  Order.WeekOfYear  51290 non-null  UInt32        \n",
      " 26  Order.Month       51290 non-null  int32         \n",
      " 27  Order.Year        51290 non-null  int32         \n",
      " 28  Returned          2220 non-null   object        \n",
      "dtypes: UInt32(1), datetime64[ns](2), float64(5), int32(3), int64(2), object(16)\n",
      "memory usage: 10.6+ MB\n"
     ]
    }
   ],
   "source": [
    "# lets merge the data to have features and target together\n",
    "orders_merged = pd.merge(orders_clean, returns_clean[['Order.ID', 'Returned']], on = 'Order.ID', how = 'left')\n",
    "orders_merged.info()"
   ]
  },
  {
   "cell_type": "markdown",
   "metadata": {},
   "source": [
    "#### Create dependent (response) Variable\n",
    "In the merged table, Returned with labels **NaN** are the products that are not returned, label it as Class 0, and Returned with labels **Yes** are the products that are returned, label it as Class 1."
   ]
  },
  {
   "cell_type": "code",
   "execution_count": 52,
   "metadata": {},
   "outputs": [
    {
     "name": "stdout",
     "output_type": "stream",
     "text": [
      "Data type of 'Returned' column ->  object\n",
      "\n",
      "Value counts of categories in 'Returned' column: \n",
      " Returned\n",
      "NaN     49070\n",
      "True     2220\n",
      "Name: count, dtype: int64\n"
     ]
    }
   ],
   "source": [
    "print(\"Data type of 'Returned' column -> \", orders_merged['Returned'].dtype, end = '\\n\\n')\n",
    "print(\"Value counts of categories in 'Returned' column:\",'\\n', orders_merged['Returned'].value_counts(dropna = False))"
   ]
  },
  {
   "cell_type": "markdown",
   "metadata": {},
   "source": [
    "##### Clean the Returned Column"
   ]
  },
  {
   "cell_type": "code",
   "execution_count": 53,
   "metadata": {},
   "outputs": [
    {
     "data": {
      "text/plain": [
       "Returned\n",
       "0    49070\n",
       "1     2220\n",
       "Name: count, dtype: int64"
      ]
     },
     "execution_count": 53,
     "metadata": {},
     "output_type": "execute_result"
    }
   ],
   "source": [
    "orders_merged['Returned'] = orders_merged['Returned'].map(lambda x: 1 if x is True else 0)\n",
    "\n",
    "# Lets check if our transformation worked\n",
    "orders_merged['Returned'].value_counts(dropna = False)"
   ]
  },
  {
   "cell_type": "markdown",
   "metadata": {},
   "source": [
    "**Note:** The **Returned** information is based on **Product.ID**. This means that when an order is returned, we analyze the return at the product level rather than the order level. Each row is unique based on the combination of **Customer.ID**, **Order.ID**, and **Product.ID**.\n",
    "\n",
    "Analyzing returns at the product level provides more data to work with. If we were to analyze at the order level, the data would reduce to almost half the observations, requiring aggregation at the order level. By focusing on the product level, we can leverage a richer dataset for our analysis.\n"
   ]
  },
  {
   "cell_type": "code",
   "execution_count": 54,
   "metadata": {},
   "outputs": [
    {
     "data": {
      "text/html": [
       "<div>\n",
       "<style scoped>\n",
       "    .dataframe tbody tr th:only-of-type {\n",
       "        vertical-align: middle;\n",
       "    }\n",
       "\n",
       "    .dataframe tbody tr th {\n",
       "        vertical-align: top;\n",
       "    }\n",
       "\n",
       "    .dataframe thead th {\n",
       "        text-align: right;\n",
       "    }\n",
       "</style>\n",
       "<table border=\"1\" class=\"dataframe\">\n",
       "  <thead>\n",
       "    <tr style=\"text-align: right;\">\n",
       "      <th></th>\n",
       "      <th>Customer.ID</th>\n",
       "      <th>Order.ID</th>\n",
       "      <th>Product.ID</th>\n",
       "      <th>Quantity</th>\n",
       "      <th>Returned</th>\n",
       "    </tr>\n",
       "  </thead>\n",
       "  <tbody>\n",
       "    <tr>\n",
       "      <th>34130</th>\n",
       "      <td>PO-8865138</td>\n",
       "      <td>AE-2012-PO8865138-41184</td>\n",
       "      <td>TEC-MA-4190</td>\n",
       "      <td>6</td>\n",
       "      <td>0</td>\n",
       "    </tr>\n",
       "    <tr>\n",
       "      <th>29575</th>\n",
       "      <td>PO-8865138</td>\n",
       "      <td>AE-2012-PO8865138-41184</td>\n",
       "      <td>OFF-ST-4258</td>\n",
       "      <td>2</td>\n",
       "      <td>0</td>\n",
       "    </tr>\n",
       "    <tr>\n",
       "      <th>5597</th>\n",
       "      <td>EB-4110138</td>\n",
       "      <td>AE-2014-EB4110138-41926</td>\n",
       "      <td>FUR-BO-3647</td>\n",
       "      <td>6</td>\n",
       "      <td>0</td>\n",
       "    </tr>\n",
       "    <tr>\n",
       "      <th>50886</th>\n",
       "      <td>EB-4110138</td>\n",
       "      <td>AE-2014-EB4110138-41926</td>\n",
       "      <td>OFF-FA-2945</td>\n",
       "      <td>1</td>\n",
       "      <td>0</td>\n",
       "    </tr>\n",
       "    <tr>\n",
       "      <th>47763</th>\n",
       "      <td>MY-7380138</td>\n",
       "      <td>AE-2014-MY7380138-42004</td>\n",
       "      <td>OFF-SU-6166</td>\n",
       "      <td>2</td>\n",
       "      <td>1</td>\n",
       "    </tr>\n",
       "    <tr>\n",
       "      <th>44217</th>\n",
       "      <td>MY-7380138</td>\n",
       "      <td>AE-2014-MY7380138-42004</td>\n",
       "      <td>OFF-ST-6249</td>\n",
       "      <td>1</td>\n",
       "      <td>1</td>\n",
       "    </tr>\n",
       "    <tr>\n",
       "      <th>49469</th>\n",
       "      <td>GH-4665138</td>\n",
       "      <td>AE-2015-GH4665138-42351</td>\n",
       "      <td>OFF-BI-3246</td>\n",
       "      <td>1</td>\n",
       "      <td>0</td>\n",
       "    </tr>\n",
       "    <tr>\n",
       "      <th>49470</th>\n",
       "      <td>GH-4665138</td>\n",
       "      <td>AE-2015-GH4665138-42351</td>\n",
       "      <td>OFF-BI-3249</td>\n",
       "      <td>1</td>\n",
       "      <td>0</td>\n",
       "    </tr>\n",
       "  </tbody>\n",
       "</table>\n",
       "</div>"
      ],
      "text/plain": [
       "      Customer.ID                 Order.ID   Product.ID  Quantity  Returned\n",
       "34130  PO-8865138  AE-2012-PO8865138-41184  TEC-MA-4190         6         0\n",
       "29575  PO-8865138  AE-2012-PO8865138-41184  OFF-ST-4258         2         0\n",
       "5597   EB-4110138  AE-2014-EB4110138-41926  FUR-BO-3647         6         0\n",
       "50886  EB-4110138  AE-2014-EB4110138-41926  OFF-FA-2945         1         0\n",
       "47763  MY-7380138  AE-2014-MY7380138-42004  OFF-SU-6166         2         1\n",
       "44217  MY-7380138  AE-2014-MY7380138-42004  OFF-ST-6249         1         1\n",
       "49469  GH-4665138  AE-2015-GH4665138-42351  OFF-BI-3246         1         0\n",
       "49470  GH-4665138  AE-2015-GH4665138-42351  OFF-BI-3249         1         0"
      ]
     },
     "execution_count": 54,
     "metadata": {},
     "output_type": "execute_result"
    }
   ],
   "source": [
    "orders_merged[['Customer.ID', 'Order.ID', 'Product.ID', 'Quantity', 'Returned']].sort_values(by = 'Order.ID').head(8)"
   ]
  },
  {
   "cell_type": "code",
   "execution_count": 55,
   "metadata": {},
   "outputs": [
    {
     "data": {
      "text/plain": [
       "Returned\n",
       "0    24649\n",
       "1     1079\n",
       "Name: count, dtype: int64"
      ]
     },
     "execution_count": 55,
     "metadata": {},
     "output_type": "execute_result"
    }
   ],
   "source": [
    "# order level data reduces observations to half, lets look at unique order ids\n",
    "df = orders_merged[['Order.ID', 'Returned']].drop_duplicates()\n",
    "df['Returned'].value_counts(dropna = False)"
   ]
  },
  {
   "cell_type": "markdown",
   "metadata": {},
   "source": [
    "Lets introduce a new column **Process.Time** which calculates the days it takes from receiving an order to shipping it. The idea is how long it takes to ship affects whether the product will be returned and the rate of returned based on **Process.Time** is presented below."
   ]
  },
  {
   "cell_type": "code",
   "execution_count": 56,
   "metadata": {},
   "outputs": [
    {
     "data": {
      "text/html": [
       "<div>\n",
       "<style scoped>\n",
       "    .dataframe tbody tr th:only-of-type {\n",
       "        vertical-align: middle;\n",
       "    }\n",
       "\n",
       "    .dataframe tbody tr th {\n",
       "        vertical-align: top;\n",
       "    }\n",
       "\n",
       "    .dataframe thead th {\n",
       "        text-align: right;\n",
       "    }\n",
       "</style>\n",
       "<table border=\"1\" class=\"dataframe\">\n",
       "  <thead>\n",
       "    <tr style=\"text-align: right;\">\n",
       "      <th></th>\n",
       "      <th>Order.ID</th>\n",
       "      <th>Product.ID</th>\n",
       "      <th>Quantity</th>\n",
       "      <th>Returned</th>\n",
       "      <th>Ship.Date</th>\n",
       "      <th>Order.Date</th>\n",
       "      <th>Process.Time</th>\n",
       "    </tr>\n",
       "  </thead>\n",
       "  <tbody>\n",
       "    <tr>\n",
       "      <th>34130</th>\n",
       "      <td>AE-2012-PO8865138-41184</td>\n",
       "      <td>TEC-MA-4190</td>\n",
       "      <td>6</td>\n",
       "      <td>0</td>\n",
       "      <td>2012-10-06</td>\n",
       "      <td>2012-10-02</td>\n",
       "      <td>4</td>\n",
       "    </tr>\n",
       "    <tr>\n",
       "      <th>29575</th>\n",
       "      <td>AE-2012-PO8865138-41184</td>\n",
       "      <td>OFF-ST-4258</td>\n",
       "      <td>2</td>\n",
       "      <td>0</td>\n",
       "      <td>2012-10-06</td>\n",
       "      <td>2012-10-02</td>\n",
       "      <td>4</td>\n",
       "    </tr>\n",
       "    <tr>\n",
       "      <th>5597</th>\n",
       "      <td>AE-2014-EB4110138-41926</td>\n",
       "      <td>FUR-BO-3647</td>\n",
       "      <td>6</td>\n",
       "      <td>0</td>\n",
       "      <td>2014-10-14</td>\n",
       "      <td>2014-10-14</td>\n",
       "      <td>0</td>\n",
       "    </tr>\n",
       "    <tr>\n",
       "      <th>50886</th>\n",
       "      <td>AE-2014-EB4110138-41926</td>\n",
       "      <td>OFF-FA-2945</td>\n",
       "      <td>1</td>\n",
       "      <td>0</td>\n",
       "      <td>2014-10-14</td>\n",
       "      <td>2014-10-14</td>\n",
       "      <td>0</td>\n",
       "    </tr>\n",
       "    <tr>\n",
       "      <th>47763</th>\n",
       "      <td>AE-2014-MY7380138-42004</td>\n",
       "      <td>OFF-SU-6166</td>\n",
       "      <td>2</td>\n",
       "      <td>1</td>\n",
       "      <td>2015-01-03</td>\n",
       "      <td>2014-12-31</td>\n",
       "      <td>3</td>\n",
       "    </tr>\n",
       "    <tr>\n",
       "      <th>44217</th>\n",
       "      <td>AE-2014-MY7380138-42004</td>\n",
       "      <td>OFF-ST-6249</td>\n",
       "      <td>1</td>\n",
       "      <td>1</td>\n",
       "      <td>2015-01-03</td>\n",
       "      <td>2014-12-31</td>\n",
       "      <td>3</td>\n",
       "    </tr>\n",
       "    <tr>\n",
       "      <th>49469</th>\n",
       "      <td>AE-2015-GH4665138-42351</td>\n",
       "      <td>OFF-BI-3246</td>\n",
       "      <td>1</td>\n",
       "      <td>0</td>\n",
       "      <td>2015-12-19</td>\n",
       "      <td>2015-12-13</td>\n",
       "      <td>6</td>\n",
       "    </tr>\n",
       "    <tr>\n",
       "      <th>49470</th>\n",
       "      <td>AE-2015-GH4665138-42351</td>\n",
       "      <td>OFF-BI-3249</td>\n",
       "      <td>1</td>\n",
       "      <td>0</td>\n",
       "      <td>2015-12-19</td>\n",
       "      <td>2015-12-13</td>\n",
       "      <td>6</td>\n",
       "    </tr>\n",
       "  </tbody>\n",
       "</table>\n",
       "</div>"
      ],
      "text/plain": [
       "                      Order.ID   Product.ID  Quantity  Returned  Ship.Date  \\\n",
       "34130  AE-2012-PO8865138-41184  TEC-MA-4190         6         0 2012-10-06   \n",
       "29575  AE-2012-PO8865138-41184  OFF-ST-4258         2         0 2012-10-06   \n",
       "5597   AE-2014-EB4110138-41926  FUR-BO-3647         6         0 2014-10-14   \n",
       "50886  AE-2014-EB4110138-41926  OFF-FA-2945         1         0 2014-10-14   \n",
       "47763  AE-2014-MY7380138-42004  OFF-SU-6166         2         1 2015-01-03   \n",
       "44217  AE-2014-MY7380138-42004  OFF-ST-6249         1         1 2015-01-03   \n",
       "49469  AE-2015-GH4665138-42351  OFF-BI-3246         1         0 2015-12-19   \n",
       "49470  AE-2015-GH4665138-42351  OFF-BI-3249         1         0 2015-12-19   \n",
       "\n",
       "      Order.Date  Process.Time  \n",
       "34130 2012-10-02             4  \n",
       "29575 2012-10-02             4  \n",
       "5597  2014-10-14             0  \n",
       "50886 2014-10-14             0  \n",
       "47763 2014-12-31             3  \n",
       "44217 2014-12-31             3  \n",
       "49469 2015-12-13             6  \n",
       "49470 2015-12-13             6  "
      ]
     },
     "execution_count": 56,
     "metadata": {},
     "output_type": "execute_result"
    }
   ],
   "source": [
    "orders_merged['Process.Time'] = (orders_merged['Ship.Date'] - orders_merged['Order.Date']).dt.days\n",
    "\n",
    "# Lets look at if 'Process.Time' column values make sense\n",
    "orders_merged[['Order.ID', 'Product.ID', 'Quantity', 'Returned', 'Ship.Date', \\\n",
    "'Order.Date', 'Process.Time']].sort_values(by = 'Order.ID').head(8)"
   ]
  },
  {
   "cell_type": "code",
   "execution_count": 60,
   "metadata": {},
   "outputs": [],
   "source": [
    "process_time_ratio = pd.DataFrame(\n",
    "    {'All': orders_merged['Process.Time'].value_counts(normalize = True),\n",
    "     'Returned': orders_merged[orders_merged['Returned'] == 1]['Process.Time'].value_counts(normalize = True),\n",
    "      'Non-Returned': orders_merged[orders_merged['Returned'] == 0]['Process.Time'].value_counts(normalize = True)\n",
    "    }\n",
    ")"
   ]
  },
  {
   "cell_type": "code",
   "execution_count": 70,
   "metadata": {},
   "outputs": [
    {
     "data": {
      "text/plain": [
       "<Axes: title={'center': 'Comparison of Process Time Ratio for ALL, Returned and Non-Returned Products'}, xlabel='Process.Time', ylabel='Ratio'>"
      ]
     },
     "execution_count": 70,
     "metadata": {},
     "output_type": "execute_result"
    },
    {
     "data": {
      "image/png": "[encoded data removed]",
      "text/plain": [
       "<Figure size 800x600 with 1 Axes>"
      ]
     },
     "metadata": {},
     "output_type": "display_data"
    }
   ],
   "source": [
    "process_time_ratio.plot.bar(rot = 0, title = 'Comparison of Process Time Ratio \\\n",
    "for ALL, Returned and Non-Returned Products', ylabel = 'Ratio', figsize = (8, 6))"
   ]
  },
  {
   "cell_type": "markdown",
   "metadata": {},
   "source": [
    "#### Count how many times a Product was Returned\n",
    "If a product was returned before, it is likely that it might be returned again. We will count how many times a product was returned, if it never got returned we will impute the missing values using 0. Remember, more products ordered likely means more returns so we will use the ratio of returns."
   ]
  },
  {
   "cell_type": "code",
   "execution_count": 85,
   "metadata": {},
   "outputs": [
    {
     "data": {
      "text/plain": [
       "Product.ID\n",
       "TEC-PH-5833     0\n",
       "TEC-PH-5834     0\n",
       "TEC-PH-5837     0\n",
       "TEC-PH-5822     0\n",
       "TEC-PH-5823     0\n",
       "               ..\n",
       "OFF-ST-6031     6\n",
       "OFF-AR-3499     6\n",
       "OFF-ST-6251     6\n",
       "OFF-ST-6033     9\n",
       "OFF-FA-6129    12\n",
       "Name: Returned, Length: 3788, dtype: int64"
      ]
     },
     "execution_count": 85,
     "metadata": {},
     "output_type": "execute_result"
    }
   ],
   "source": [
    "# sum 0 means the products were never returned\n",
    "product_returns_count = orders_merged.groupby(['Product.ID'])['Returned'].sum()\n",
    "product_returns_count.sort_values()"
   ]
  },
  {
   "cell_type": "code",
   "execution_count": 86,
   "metadata": {},
   "outputs": [
    {
     "data": {
      "text/plain": [
       "Product.ID\n",
       "TEC-PH-5649    0.000000\n",
       "FUR-BO-4859    0.000000\n",
       "TEC-MA-4200    0.000000\n",
       "TEC-MA-4202    0.000000\n",
       "TEC-MA-5081    0.000000\n",
       "                 ...   \n",
       "FUR-BO-5810    0.666667\n",
       "TEC-PH-3795    0.666667\n",
       "FUR-BO-3644    1.000000\n",
       "FUR-TA-3339    1.000000\n",
       "OFF-PA-6525    1.000000\n",
       "Name: Returned, Length: 3788, dtype: float64"
      ]
     },
     "execution_count": 86,
     "metadata": {},
     "output_type": "execute_result"
    }
   ],
   "source": [
    "product_returns_ratio = orders_merged.groupby(['Product.ID'])['Returned'].mean()\n",
    "product_returns_ratio.sort_values()"
   ]
  },
  {
   "cell_type": "code",
   "execution_count": 87,
   "metadata": {},
   "outputs": [],
   "source": [
    "# Lets insert columns product_returns_count and product_returns_ratio in the orders_merged dataframe\n",
    "orders_merged['Product.ID.Return.Count'] = orders_merged['Product.ID'].map(lambda x: product_returns_count[x])\n",
    "orders_merged['Product.ID.Return.Ratio'] = orders_merged['Product.ID'].map(lambda x: product_returns_ratio[x])"
   ]
  },
  {
   "cell_type": "code",
   "execution_count": 88,
   "metadata": {},
   "outputs": [
    {
     "data": {
      "text/html": [
       "<div>\n",
       "<style scoped>\n",
       "    .dataframe tbody tr th:only-of-type {\n",
       "        vertical-align: middle;\n",
       "    }\n",
       "\n",
       "    .dataframe tbody tr th {\n",
       "        vertical-align: top;\n",
       "    }\n",
       "\n",
       "    .dataframe thead th {\n",
       "        text-align: right;\n",
       "    }\n",
       "</style>\n",
       "<table border=\"1\" class=\"dataframe\">\n",
       "  <thead>\n",
       "    <tr style=\"text-align: right;\">\n",
       "      <th></th>\n",
       "      <th>Product.ID</th>\n",
       "      <th>Product.ID.Return.Count</th>\n",
       "      <th>Product.ID.Return.Ratio</th>\n",
       "    </tr>\n",
       "  </thead>\n",
       "  <tbody>\n",
       "    <tr>\n",
       "      <th>0</th>\n",
       "      <td>TEC-PH-5816</td>\n",
       "      <td>0</td>\n",
       "      <td>0.000000</td>\n",
       "    </tr>\n",
       "    <tr>\n",
       "      <th>1</th>\n",
       "      <td>FUR-CH-5379</td>\n",
       "      <td>2</td>\n",
       "      <td>0.080000</td>\n",
       "    </tr>\n",
       "    <tr>\n",
       "      <th>2</th>\n",
       "      <td>TEC-PH-5356</td>\n",
       "      <td>2</td>\n",
       "      <td>0.083333</td>\n",
       "    </tr>\n",
       "    <tr>\n",
       "      <th>3</th>\n",
       "      <td>TEC-PH-5267</td>\n",
       "      <td>0</td>\n",
       "      <td>0.000000</td>\n",
       "    </tr>\n",
       "    <tr>\n",
       "      <th>4</th>\n",
       "      <td>TEC-CO-6011</td>\n",
       "      <td>0</td>\n",
       "      <td>0.000000</td>\n",
       "    </tr>\n",
       "    <tr>\n",
       "      <th>...</th>\n",
       "      <td>...</td>\n",
       "      <td>...</td>\n",
       "      <td>...</td>\n",
       "    </tr>\n",
       "    <tr>\n",
       "      <th>51285</th>\n",
       "      <td>OFF-FA-3072</td>\n",
       "      <td>1</td>\n",
       "      <td>0.055556</td>\n",
       "    </tr>\n",
       "    <tr>\n",
       "      <th>51286</th>\n",
       "      <td>FUR-FU-4070</td>\n",
       "      <td>0</td>\n",
       "      <td>0.000000</td>\n",
       "    </tr>\n",
       "    <tr>\n",
       "      <th>51287</th>\n",
       "      <td>OFF-AR-5321</td>\n",
       "      <td>0</td>\n",
       "      <td>0.000000</td>\n",
       "    </tr>\n",
       "    <tr>\n",
       "      <th>51288</th>\n",
       "      <td>OFF-BI-2919</td>\n",
       "      <td>2</td>\n",
       "      <td>0.055556</td>\n",
       "    </tr>\n",
       "    <tr>\n",
       "      <th>51289</th>\n",
       "      <td>OFF-PA-3990</td>\n",
       "      <td>0</td>\n",
       "      <td>0.000000</td>\n",
       "    </tr>\n",
       "  </tbody>\n",
       "</table>\n",
       "<p>51290 rows × 3 columns</p>\n",
       "</div>"
      ],
      "text/plain": [
       "        Product.ID  Product.ID.Return.Count  Product.ID.Return.Ratio\n",
       "0      TEC-PH-5816                        0                 0.000000\n",
       "1      FUR-CH-5379                        2                 0.080000\n",
       "2      TEC-PH-5356                        2                 0.083333\n",
       "3      TEC-PH-5267                        0                 0.000000\n",
       "4      TEC-CO-6011                        0                 0.000000\n",
       "...            ...                      ...                      ...\n",
       "51285  OFF-FA-3072                        1                 0.055556\n",
       "51286  FUR-FU-4070                        0                 0.000000\n",
       "51287  OFF-AR-5321                        0                 0.000000\n",
       "51288  OFF-BI-2919                        2                 0.055556\n",
       "51289  OFF-PA-3990                        0                 0.000000\n",
       "\n",
       "[51290 rows x 3 columns]"
      ]
     },
     "execution_count": 88,
     "metadata": {},
     "output_type": "execute_result"
    }
   ],
   "source": [
    "# lets look at the Product.ID and its return counts and ratio\n",
    "orders_merged[['Product.ID', 'Product.ID.Return.Count', 'Product.ID.Return.Ratio']]"
   ]
  },
  {
   "cell_type": "code",
   "execution_count": 89,
   "metadata": {},
   "outputs": [
    {
     "data": {
      "text/plain": [
       "Returned\n",
       "0    Axes(0.125,0.11;0.775x0.77)\n",
       "1    Axes(0.125,0.11;0.775x0.77)\n",
       "Name: Product.ID.Return.Count, dtype: object"
      ]
     },
     "execution_count": 89,
     "metadata": {},
     "output_type": "execute_result"
    },
    {
     "data": {
      "image/png": "[encoded data removed]",
      "text/plain": [
       "<Figure size 640x480 with 1 Axes>"
      ]
     },
     "metadata": {},
     "output_type": "display_data"
    }
   ],
   "source": [
    "orders_merged.groupby('Returned')['Product.ID.Return.Count'].plot.kde(legend = True)"
   ]
  },
  {
   "cell_type": "code",
   "execution_count": 90,
   "metadata": {},
   "outputs": [
    {
     "data": {
      "text/plain": [
       "Returned\n",
       "0    Axes(0.125,0.11;0.775x0.77)\n",
       "1    Axes(0.125,0.11;0.775x0.77)\n",
       "Name: Product.ID.Return.Ratio, dtype: object"
      ]
     },
     "execution_count": 90,
     "metadata": {},
     "output_type": "execute_result"
    },
    {
     "data": {
      "image/png": "[encoded data removed]",
      "text/plain": [
       "<Figure size 640x480 with 1 Axes>"
      ]
     },
     "metadata": {},
     "output_type": "display_data"
    }
   ],
   "source": [
    "orders_merged.groupby('Returned')['Product.ID.Return.Ratio'].plot.kde(legend = True)"
   ]
  },
  {
   "cell_type": "code",
   "execution_count": 92,
   "metadata": {},
   "outputs": [
    {
     "data": {
      "text/html": [
       "<div>\n",
       "<style scoped>\n",
       "    .dataframe tbody tr th:only-of-type {\n",
       "        vertical-align: middle;\n",
       "    }\n",
       "\n",
       "    .dataframe tbody tr th {\n",
       "        vertical-align: top;\n",
       "    }\n",
       "\n",
       "    .dataframe thead th {\n",
       "        text-align: right;\n",
       "    }\n",
       "</style>\n",
       "<table border=\"1\" class=\"dataframe\">\n",
       "  <thead>\n",
       "    <tr style=\"text-align: right;\">\n",
       "      <th></th>\n",
       "      <th>Product.ID.Return.Ratio</th>\n",
       "      <th>Product.ID.Return.Count</th>\n",
       "    </tr>\n",
       "  </thead>\n",
       "  <tbody>\n",
       "    <tr>\n",
       "      <th>Product.ID.Return.Ratio</th>\n",
       "      <td>1.000000</td>\n",
       "      <td>0.539588</td>\n",
       "    </tr>\n",
       "    <tr>\n",
       "      <th>Product.ID.Return.Count</th>\n",
       "      <td>0.539588</td>\n",
       "      <td>1.000000</td>\n",
       "    </tr>\n",
       "  </tbody>\n",
       "</table>\n",
       "</div>"
      ],
      "text/plain": [
       "                         Product.ID.Return.Ratio  Product.ID.Return.Count\n",
       "Product.ID.Return.Ratio                 1.000000                 0.539588\n",
       "Product.ID.Return.Count                 0.539588                 1.000000"
      ]
     },
     "execution_count": 92,
     "metadata": {},
     "output_type": "execute_result"
    }
   ],
   "source": [
    "orders_merged[['Product.ID.Return.Ratio', 'Product.ID.Return.Count']].corr()"
   ]
  },
  {
   "cell_type": "markdown",
   "metadata": {},
   "source": [
    "We could create a new feature called profit_ratio = profit/sales. The idea is if profit margin is higher and customer finds similar product at a lower profit margin, they are likely to return."
   ]
  },
  {
   "cell_type": "markdown",
   "metadata": {},
   "source": [
    "## Fitting Models\n",
    "- This is a binary classification problem: whether customer will return a product or not.\n",
    "- Remove non-features like Customer.ID, Order.ID, Product.ID etc.\n",
    "- Split data into train and test using 80:20 ratio\n",
    "- Since the returned products is only 5% of total orders, use StratifiedKFold from sklearn while running cross-validation."
   ]
  },
  {
   "cell_type": "markdown",
   "metadata": {},
   "source": [
    "#### Model 0: Baseline"
   ]
  },
  {
   "cell_type": "code",
   "execution_count": 93,
   "metadata": {},
   "outputs": [
    {
     "data": {
      "text/plain": [
       "Returned\n",
       "0    0.956717\n",
       "1    0.043283\n",
       "Name: proportion, dtype: float64"
      ]
     },
     "execution_count": 93,
     "metadata": {},
     "output_type": "execute_result"
    }
   ],
   "source": [
    "orders_merged['Returned'].value_counts(normalize = True)"
   ]
  },
  {
   "cell_type": "markdown",
   "metadata": {},
   "source": [
    "### Model 1: Logistic Regression"
   ]
  },
  {
   "cell_type": "code",
   "execution_count": 94,
   "metadata": {},
   "outputs": [
    {
     "name": "stdout",
     "output_type": "stream",
     "text": [
      "<class 'pandas.core.frame.DataFrame'>\n",
      "RangeIndex: 51290 entries, 0 to 51289\n",
      "Data columns (total 32 columns):\n",
      " #   Column                   Non-Null Count  Dtype         \n",
      "---  ------                   --------------  -----         \n",
      " 0   Row.ID                   51290 non-null  int64         \n",
      " 1   Order.ID                 51290 non-null  object        \n",
      " 2   Order.Date               51290 non-null  datetime64[ns]\n",
      " 3   Ship.Date                51290 non-null  datetime64[ns]\n",
      " 4   Ship.Mode                51290 non-null  object        \n",
      " 5   Customer.ID              51290 non-null  object        \n",
      " 6   Customer.Name            51290 non-null  object        \n",
      " 7   Segment                  51290 non-null  object        \n",
      " 8   Postal.Code              9994 non-null   float64       \n",
      " 9   City                     51290 non-null  object        \n",
      " 10  State                    51290 non-null  object        \n",
      " 11  Country                  51290 non-null  object        \n",
      " 12  Region                   51290 non-null  object        \n",
      " 13  Market                   51290 non-null  object        \n",
      " 14  Product.ID               51290 non-null  object        \n",
      " 15  Category                 51290 non-null  object        \n",
      " 16  Sub.Category             51290 non-null  object        \n",
      " 17  Product.Name             51290 non-null  object        \n",
      " 18  Sales                    51290 non-null  float64       \n",
      " 19  Quantity                 51290 non-null  int64         \n",
      " 20  Discount                 51290 non-null  float64       \n",
      " 21  Profit                   51290 non-null  float64       \n",
      " 22  Shipping.Cost            51290 non-null  float64       \n",
      " 23  Order.Priority           51290 non-null  object        \n",
      " 24  Order.DayOfYear          51290 non-null  int32         \n",
      " 25  Order.WeekOfYear         51290 non-null  UInt32        \n",
      " 26  Order.Month              51290 non-null  int32         \n",
      " 27  Order.Year               51290 non-null  int32         \n",
      " 28  Returned                 51290 non-null  int64         \n",
      " 29  Process.Time             51290 non-null  int64         \n",
      " 30  Product.ID.Return.Count  51290 non-null  int64         \n",
      " 31  Product.ID.Return.Ratio  51290 non-null  float64       \n",
      "dtypes: UInt32(1), datetime64[ns](2), float64(6), int32(3), int64(5), object(15)\n",
      "memory usage: 11.8+ MB\n"
     ]
    }
   ],
   "source": [
    "orders_merged.info()"
   ]
  },
  {
   "cell_type": "code",
   "execution_count": 95,
   "metadata": {},
   "outputs": [
    {
     "data": {
      "text/plain": [
       "['Category',\n",
       " 'City',\n",
       " 'Country',\n",
       " 'Customer.ID',\n",
       " 'Customer.Name',\n",
       " 'Discount',\n",
       " 'Market',\n",
       " 'Order.Date',\n",
       " 'Order.DayOfYear',\n",
       " 'Order.ID',\n",
       " 'Order.Month',\n",
       " 'Order.Priority',\n",
       " 'Order.WeekOfYear',\n",
       " 'Order.Year',\n",
       " 'Postal.Code',\n",
       " 'Process.Time',\n",
       " 'Product.ID',\n",
       " 'Product.ID.Return.Count',\n",
       " 'Product.ID.Return.Ratio',\n",
       " 'Product.Name',\n",
       " 'Profit',\n",
       " 'Quantity',\n",
       " 'Region',\n",
       " 'Returned',\n",
       " 'Row.ID',\n",
       " 'Sales',\n",
       " 'Segment',\n",
       " 'Ship.Date',\n",
       " 'Ship.Mode',\n",
       " 'Shipping.Cost',\n",
       " 'State',\n",
       " 'Sub.Category']"
      ]
     },
     "execution_count": 95,
     "metadata": {},
     "output_type": "execute_result"
    }
   ],
   "source": [
    "sorted(orders_merged.columns)"
   ]
  },
  {
   "cell_type": "code",
   "execution_count": 98,
   "metadata": {},
   "outputs": [
    {
     "name": "stdout",
     "output_type": "stream",
     "text": [
      "Features used: ['Discount', 'Process.Time', 'Product.ID.Return.Count', 'Product.ID.Return.Ratio', 'Profit', 'Quantity', 'Sales', 'Shipping.Cost', 'Category', 'Market', 'Order.Priority', 'Segment', 'Ship.Mode']\n",
      "Features not used:  {'Customer.Name', 'Row.ID', 'Order.ID', 'Product.ID', 'Order.Date', 'Order.WeekOfYear', 'Sub.Category', 'State', 'City', 'Customer.ID', 'Order.Year', 'Country', 'Order.Month', 'Ship.Date', 'Postal.Code', 'Product.Name', 'Region', 'Order.DayOfYear', 'Returned'}\n"
     ]
    }
   ],
   "source": [
    "# Note: Features not used that maybe could be useful: 'Region', 'Sub-Category', 'Order.Month', we are selecting features \n",
    "# that makes the most sense and keeping in mind the feature numbers vs data size as well\n",
    "numeric_features = ['Discount', 'Process.Time', 'Product.ID.Return.Count', 'Product.ID.Return.Ratio', 'Profit', 'Quantity', 'Sales', 'Shipping.Cost']\n",
    "categorical_features = ['Category', 'Market', 'Order.Priority', 'Segment', 'Ship.Mode']\n",
    "\n",
    "features = numeric_features + categorical_features\n",
    "\n",
    "print(\"Features used:\", features)\n",
    "print(\"Features not used: \", set(sorted(orders_merged.columns)) - set(features))"
   ]
  },
  {
   "cell_type": "markdown",
   "metadata": {},
   "source": [
    "#### Dummify Categorical Variables and Drop the First Column in Each Category"
   ]
  },
  {
   "cell_type": "code",
   "execution_count": 101,
   "metadata": {},
   "outputs": [],
   "source": [
    "# dummifies only categorical columns in the given data frame\n",
    "X = pd.get_dummies(orders_merged[features], drop_first = True, dtype = 'int')\n",
    "\n",
    "# the target is Returned\n",
    "y = orders_merged['Returned']"
   ]
  },
  {
   "cell_type": "code",
   "execution_count": 104,
   "metadata": {},
   "outputs": [
    {
     "data": {
      "text/plain": [
       "(51290, 22)"
      ]
     },
     "execution_count": 104,
     "metadata": {},
     "output_type": "execute_result"
    }
   ],
   "source": [
    "X.shape"
   ]
  },
  {
   "cell_type": "code",
   "execution_count": 105,
   "metadata": {},
   "outputs": [
    {
     "data": {
      "text/plain": [
       "(51290,)"
      ]
     },
     "execution_count": 105,
     "metadata": {},
     "output_type": "execute_result"
    }
   ],
   "source": [
    "y.shape"
   ]
  },
  {
   "cell_type": "code",
   "execution_count": 110,
   "metadata": {},
   "outputs": [
    {
     "data": {
      "text/html": [
       "<div>\n",
       "<style scoped>\n",
       "    .dataframe tbody tr th:only-of-type {\n",
       "        vertical-align: middle;\n",
       "    }\n",
       "\n",
       "    .dataframe tbody tr th {\n",
       "        vertical-align: top;\n",
       "    }\n",
       "\n",
       "    .dataframe thead th {\n",
       "        text-align: right;\n",
       "    }\n",
       "</style>\n",
       "<table border=\"1\" class=\"dataframe\">\n",
       "  <thead>\n",
       "    <tr style=\"text-align: right;\">\n",
       "      <th></th>\n",
       "      <th>Discount</th>\n",
       "      <th>Process.Time</th>\n",
       "      <th>Product.ID.Return.Count</th>\n",
       "      <th>Product.ID.Return.Ratio</th>\n",
       "      <th>Profit</th>\n",
       "      <th>Quantity</th>\n",
       "      <th>Sales</th>\n",
       "      <th>Shipping.Cost</th>\n",
       "      <th>Category_Office Supplies</th>\n",
       "      <th>Category_Technology</th>\n",
       "      <th>Market_Asia Pacific</th>\n",
       "      <th>Market_Europe</th>\n",
       "      <th>Market_LATAM</th>\n",
       "      <th>Market_USCA</th>\n",
       "      <th>Order.Priority_High</th>\n",
       "      <th>Order.Priority_Low</th>\n",
       "      <th>Order.Priority_Medium</th>\n",
       "      <th>Segment_Corporate</th>\n",
       "      <th>Segment_Home Office</th>\n",
       "      <th>Ship.Mode_Same Day</th>\n",
       "      <th>Ship.Mode_Second Class</th>\n",
       "      <th>Ship.Mode_Standard Class</th>\n",
       "    </tr>\n",
       "  </thead>\n",
       "  <tbody>\n",
       "    <tr>\n",
       "      <th>9321</th>\n",
       "      <td>0.17</td>\n",
       "      <td>4</td>\n",
       "      <td>0</td>\n",
       "      <td>0.000000</td>\n",
       "      <td>86.98</td>\n",
       "      <td>3</td>\n",
       "      <td>313.96</td>\n",
       "      <td>35.65</td>\n",
       "      <td>0</td>\n",
       "      <td>1</td>\n",
       "      <td>1</td>\n",
       "      <td>0</td>\n",
       "      <td>0</td>\n",
       "      <td>0</td>\n",
       "      <td>1</td>\n",
       "      <td>0</td>\n",
       "      <td>0</td>\n",
       "      <td>1</td>\n",
       "      <td>0</td>\n",
       "      <td>0</td>\n",
       "      <td>1</td>\n",
       "      <td>0</td>\n",
       "    </tr>\n",
       "    <tr>\n",
       "      <th>37090</th>\n",
       "      <td>0.70</td>\n",
       "      <td>5</td>\n",
       "      <td>3</td>\n",
       "      <td>0.157895</td>\n",
       "      <td>-36.81</td>\n",
       "      <td>2</td>\n",
       "      <td>20.43</td>\n",
       "      <td>2.98</td>\n",
       "      <td>1</td>\n",
       "      <td>0</td>\n",
       "      <td>0</td>\n",
       "      <td>0</td>\n",
       "      <td>0</td>\n",
       "      <td>0</td>\n",
       "      <td>1</td>\n",
       "      <td>0</td>\n",
       "      <td>0</td>\n",
       "      <td>0</td>\n",
       "      <td>0</td>\n",
       "      <td>0</td>\n",
       "      <td>0</td>\n",
       "      <td>1</td>\n",
       "    </tr>\n",
       "    <tr>\n",
       "      <th>18283</th>\n",
       "      <td>0.00</td>\n",
       "      <td>6</td>\n",
       "      <td>1</td>\n",
       "      <td>0.034483</td>\n",
       "      <td>52.86</td>\n",
       "      <td>1</td>\n",
       "      <td>182.37</td>\n",
       "      <td>14.55</td>\n",
       "      <td>0</td>\n",
       "      <td>0</td>\n",
       "      <td>0</td>\n",
       "      <td>0</td>\n",
       "      <td>0</td>\n",
       "      <td>0</td>\n",
       "      <td>0</td>\n",
       "      <td>0</td>\n",
       "      <td>1</td>\n",
       "      <td>1</td>\n",
       "      <td>0</td>\n",
       "      <td>0</td>\n",
       "      <td>0</td>\n",
       "      <td>1</td>\n",
       "    </tr>\n",
       "    <tr>\n",
       "      <th>43321</th>\n",
       "      <td>0.00</td>\n",
       "      <td>0</td>\n",
       "      <td>1</td>\n",
       "      <td>0.142857</td>\n",
       "      <td>601.97</td>\n",
       "      <td>7</td>\n",
       "      <td>1399.93</td>\n",
       "      <td>309.52</td>\n",
       "      <td>0</td>\n",
       "      <td>1</td>\n",
       "      <td>0</td>\n",
       "      <td>0</td>\n",
       "      <td>0</td>\n",
       "      <td>1</td>\n",
       "      <td>1</td>\n",
       "      <td>0</td>\n",
       "      <td>0</td>\n",
       "      <td>0</td>\n",
       "      <td>0</td>\n",
       "      <td>1</td>\n",
       "      <td>0</td>\n",
       "      <td>0</td>\n",
       "    </tr>\n",
       "    <tr>\n",
       "      <th>36936</th>\n",
       "      <td>0.10</td>\n",
       "      <td>7</td>\n",
       "      <td>0</td>\n",
       "      <td>0.000000</td>\n",
       "      <td>22.24</td>\n",
       "      <td>2</td>\n",
       "      <td>87.16</td>\n",
       "      <td>3.03</td>\n",
       "      <td>0</td>\n",
       "      <td>0</td>\n",
       "      <td>1</td>\n",
       "      <td>0</td>\n",
       "      <td>0</td>\n",
       "      <td>0</td>\n",
       "      <td>0</td>\n",
       "      <td>0</td>\n",
       "      <td>1</td>\n",
       "      <td>0</td>\n",
       "      <td>0</td>\n",
       "      <td>0</td>\n",
       "      <td>0</td>\n",
       "      <td>1</td>\n",
       "    </tr>\n",
       "  </tbody>\n",
       "</table>\n",
       "</div>"
      ],
      "text/plain": [
       "       Discount  Process.Time  Product.ID.Return.Count  \\\n",
       "9321       0.17             4                        0   \n",
       "37090      0.70             5                        3   \n",
       "18283      0.00             6                        1   \n",
       "43321      0.00             0                        1   \n",
       "36936      0.10             7                        0   \n",
       "\n",
       "       Product.ID.Return.Ratio  Profit  Quantity    Sales  Shipping.Cost  \\\n",
       "9321                  0.000000   86.98         3   313.96          35.65   \n",
       "37090                 0.157895  -36.81         2    20.43           2.98   \n",
       "18283                 0.034483   52.86         1   182.37          14.55   \n",
       "43321                 0.142857  601.97         7  1399.93         309.52   \n",
       "36936                 0.000000   22.24         2    87.16           3.03   \n",
       "\n",
       "       Category_Office Supplies  Category_Technology  Market_Asia Pacific  \\\n",
       "9321                          0                    1                    1   \n",
       "37090                         1                    0                    0   \n",
       "18283                         0                    0                    0   \n",
       "43321                         0                    1                    0   \n",
       "36936                         0                    0                    1   \n",
       "\n",
       "       Market_Europe  Market_LATAM  Market_USCA  Order.Priority_High  \\\n",
       "9321               0             0            0                    1   \n",
       "37090              0             0            0                    1   \n",
       "18283              0             0            0                    0   \n",
       "43321              0             0            1                    1   \n",
       "36936              0             0            0                    0   \n",
       "\n",
       "       Order.Priority_Low  Order.Priority_Medium  Segment_Corporate  \\\n",
       "9321                    0                      0                  1   \n",
       "37090                   0                      0                  0   \n",
       "18283                   0                      1                  1   \n",
       "43321                   0                      0                  0   \n",
       "36936                   0                      1                  0   \n",
       "\n",
       "       Segment_Home Office  Ship.Mode_Same Day  Ship.Mode_Second Class  \\\n",
       "9321                     0                   0                       1   \n",
       "37090                    0                   0                       0   \n",
       "18283                    0                   0                       0   \n",
       "43321                    0                   1                       0   \n",
       "36936                    0                   0                       0   \n",
       "\n",
       "       Ship.Mode_Standard Class  \n",
       "9321                          0  \n",
       "37090                         1  \n",
       "18283                         1  \n",
       "43321                         0  \n",
       "36936                         1  "
      ]
     },
     "execution_count": 110,
     "metadata": {},
     "output_type": "execute_result"
    }
   ],
   "source": [
    "X.sample(5)"
   ]
  },
  {
   "cell_type": "code",
   "execution_count": 109,
   "metadata": {},
   "outputs": [
    {
     "data": {
      "text/plain": [
       "50396    0\n",
       "44940    0\n",
       "6293     0\n",
       "28042    0\n",
       "6052     0\n",
       "Name: Returned, dtype: int64"
      ]
     },
     "execution_count": 109,
     "metadata": {},
     "output_type": "execute_result"
    }
   ],
   "source": [
    "y.sample(5)"
   ]
  },
  {
   "cell_type": "markdown",
   "metadata": {},
   "source": [
    "#### Split the data into train and test set"
   ]
  },
  {
   "cell_type": "code",
   "execution_count": 111,
   "metadata": {},
   "outputs": [],
   "source": [
    "X_train, X_test, y_train, y_test = train_test_split(X, y, test_size = 0.2, random_state = 0, stratify = y)"
   ]
  },
  {
   "cell_type": "code",
   "execution_count": 112,
   "metadata": {},
   "outputs": [
    {
     "data": {
      "text/plain": [
       "(41032, 22)"
      ]
     },
     "execution_count": 112,
     "metadata": {},
     "output_type": "execute_result"
    }
   ],
   "source": [
    "X_train.shape"
   ]
  },
  {
   "cell_type": "code",
   "execution_count": 113,
   "metadata": {},
   "outputs": [
    {
     "data": {
      "text/plain": [
       "(10258, 22)"
      ]
     },
     "execution_count": 113,
     "metadata": {},
     "output_type": "execute_result"
    }
   ],
   "source": [
    "X_test.shape"
   ]
  },
  {
   "cell_type": "code",
   "execution_count": 114,
   "metadata": {},
   "outputs": [
    {
     "data": {
      "text/plain": [
       "(41032,)"
      ]
     },
     "execution_count": 114,
     "metadata": {},
     "output_type": "execute_result"
    }
   ],
   "source": [
    "y_train.shape"
   ]
  },
  {
   "cell_type": "code",
   "execution_count": 115,
   "metadata": {},
   "outputs": [
    {
     "data": {
      "text/plain": [
       "(10258,)"
      ]
     },
     "execution_count": 115,
     "metadata": {},
     "output_type": "execute_result"
    }
   ],
   "source": [
    "y_test.shape"
   ]
  },
  {
   "cell_type": "markdown",
   "metadata": {},
   "source": [
    "### Fit Logistic Regression Model"
   ]
  },
  {
   "cell_type": "code",
   "execution_count": 116,
   "metadata": {},
   "outputs": [
    {
     "data": {
      "text/html": [
       "<style>#sk-container-id-1 {\n",
       "  /* Definition of color scheme common for light and dark mode */\n",
       "  --sklearn-color-text: black;\n",
       "  --sklearn-color-line: gray;\n",
       "  /* Definition of color scheme for unfitted estimators */\n",
       "  --sklearn-color-unfitted-level-0: #fff5e6;\n",
       "  --sklearn-color-unfitted-level-1: #f6e4d2;\n",
       "  --sklearn-color-unfitted-level-2: #ffe0b3;\n",
       "  --sklearn-color-unfitted-level-3: chocolate;\n",
       "  /* Definition of color scheme for fitted estimators */\n",
       "  --sklearn-color-fitted-level-0: #f0f8ff;\n",
       "  --sklearn-color-fitted-level-1: #d4ebff;\n",
       "  --sklearn-color-fitted-level-2: #b3dbfd;\n",
       "  --sklearn-color-fitted-level-3: cornflowerblue;\n",
       "\n",
       "  /* Specific color for light theme */\n",
       "  --sklearn-color-text-on-default-background: var(--sg-text-color, var(--theme-code-foreground, var(--jp-content-font-color1, black)));\n",
       "  --sklearn-color-background: var(--sg-background-color, var(--theme-background, var(--jp-layout-color0, white)));\n",
       "  --sklearn-color-border-box: var(--sg-text-color, var(--theme-code-foreground, var(--jp-content-font-color1, black)));\n",
       "  --sklearn-color-icon: #696969;\n",
       "\n",
       "  @media (prefers-color-scheme: dark) {\n",
       "    /* Redefinition of color scheme for dark theme */\n",
       "    --sklearn-color-text-on-default-background: var(--sg-text-color, var(--theme-code-foreground, var(--jp-content-font-color1, white)));\n",
       "    --sklearn-color-background: var(--sg-background-color, var(--theme-background, var(--jp-layout-color0, #111)));\n",
       "    --sklearn-color-border-box: var(--sg-text-color, var(--theme-code-foreground, var(--jp-content-font-color1, white)));\n",
       "    --sklearn-color-icon: #878787;\n",
       "  }\n",
       "}\n",
       "\n",
       "#sk-container-id-1 {\n",
       "  color: var(--sklearn-color-text);\n",
       "}\n",
       "\n",
       "#sk-container-id-1 pre {\n",
       "  padding: 0;\n",
       "}\n",
       "\n",
       "#sk-container-id-1 input.sk-hidden--visually {\n",
       "  border: 0;\n",
       "  clip: rect(1px 1px 1px 1px);\n",
       "  clip: rect(1px, 1px, 1px, 1px);\n",
       "  height: 1px;\n",
       "  margin: -1px;\n",
       "  overflow: hidden;\n",
       "  padding: 0;\n",
       "  position: absolute;\n",
       "  width: 1px;\n",
       "}\n",
       "\n",
       "#sk-container-id-1 div.sk-dashed-wrapped {\n",
       "  border: 1px dashed var(--sklearn-color-line);\n",
       "  margin: 0 0.4em 0.5em 0.4em;\n",
       "  box-sizing: border-box;\n",
       "  padding-bottom: 0.4em;\n",
       "  background-color: var(--sklearn-color-background);\n",
       "}\n",
       "\n",
       "#sk-container-id-1 div.sk-container {\n",
       "  /* jupyter's `normalize.less` sets `[hidden] { display: none; }`\n",
       "     but bootstrap.min.css set `[hidden] { display: none !important; }`\n",
       "     so we also need the `!important` here to be able to override the\n",
       "     default hidden behavior on the sphinx rendered scikit-learn.org.\n",
       "     See: https://github.com/scikit-learn/scikit-learn/issues/21755 */\n",
       "  display: inline-block !important;\n",
       "  position: relative;\n",
       "}\n",
       "\n",
       "#sk-container-id-1 div.sk-text-repr-fallback {\n",
       "  display: none;\n",
       "}\n",
       "\n",
       "div.sk-parallel-item,\n",
       "div.sk-serial,\n",
       "div.sk-item {\n",
       "  /* draw centered vertical line to link estimators */\n",
       "  background-image: linear-gradient(var(--sklearn-color-text-on-default-background), var(--sklearn-color-text-on-default-background));\n",
       "  background-size: 2px 100%;\n",
       "  background-repeat: no-repeat;\n",
       "  background-position: center center;\n",
       "}\n",
       "\n",
       "/* Parallel-specific style estimator block */\n",
       "\n",
       "#sk-container-id-1 div.sk-parallel-item::after {\n",
       "  content: \"\";\n",
       "  width: 100%;\n",
       "  border-bottom: 2px solid var(--sklearn-color-text-on-default-background);\n",
       "  flex-grow: 1;\n",
       "}\n",
       "\n",
       "#sk-container-id-1 div.sk-parallel {\n",
       "  display: flex;\n",
       "  align-items: stretch;\n",
       "  justify-content: center;\n",
       "  background-color: var(--sklearn-color-background);\n",
       "  position: relative;\n",
       "}\n",
       "\n",
       "#sk-container-id-1 div.sk-parallel-item {\n",
       "  display: flex;\n",
       "  flex-direction: column;\n",
       "}\n",
       "\n",
       "#sk-container-id-1 div.sk-parallel-item:first-child::after {\n",
       "  align-self: flex-end;\n",
       "  width: 50%;\n",
       "}\n",
       "\n",
       "#sk-container-id-1 div.sk-parallel-item:last-child::after {\n",
       "  align-self: flex-start;\n",
       "  width: 50%;\n",
       "}\n",
       "\n",
       "#sk-container-id-1 div.sk-parallel-item:only-child::after {\n",
       "  width: 0;\n",
       "}\n",
       "\n",
       "/* Serial-specific style estimator block */\n",
       "\n",
       "#sk-container-id-1 div.sk-serial {\n",
       "  display: flex;\n",
       "  flex-direction: column;\n",
       "  align-items: center;\n",
       "  background-color: var(--sklearn-color-background);\n",
       "  padding-right: 1em;\n",
       "  padding-left: 1em;\n",
       "}\n",
       "\n",
       "\n",
       "/* Toggleable style: style used for estimator/Pipeline/ColumnTransformer box that is\n",
       "clickable and can be expanded/collapsed.\n",
       "- Pipeline and ColumnTransformer use this feature and define the default style\n",
       "- Estimators will overwrite some part of the style using the `sk-estimator` class\n",
       "*/\n",
       "\n",
       "/* Pipeline and ColumnTransformer style (default) */\n",
       "\n",
       "#sk-container-id-1 div.sk-toggleable {\n",
       "  /* Default theme specific background. It is overwritten whether we have a\n",
       "  specific estimator or a Pipeline/ColumnTransformer */\n",
       "  background-color: var(--sklearn-color-background);\n",
       "}\n",
       "\n",
       "/* Toggleable label */\n",
       "#sk-container-id-1 label.sk-toggleable__label {\n",
       "  cursor: pointer;\n",
       "  display: block;\n",
       "  width: 100%;\n",
       "  margin-bottom: 0;\n",
       "  padding: 0.5em;\n",
       "  box-sizing: border-box;\n",
       "  text-align: center;\n",
       "}\n",
       "\n",
       "#sk-container-id-1 label.sk-toggleable__label-arrow:before {\n",
       "  /* Arrow on the left of the label */\n",
       "  content: \"▸\";\n",
       "  float: left;\n",
       "  margin-right: 0.25em;\n",
       "  color: var(--sklearn-color-icon);\n",
       "}\n",
       "\n",
       "#sk-container-id-1 label.sk-toggleable__label-arrow:hover:before {\n",
       "  color: var(--sklearn-color-text);\n",
       "}\n",
       "\n",
       "/* Toggleable content - dropdown */\n",
       "\n",
       "#sk-container-id-1 div.sk-toggleable__content {\n",
       "  max-height: 0;\n",
       "  max-width: 0;\n",
       "  overflow: hidden;\n",
       "  text-align: left;\n",
       "  /* unfitted */\n",
       "  background-color: var(--sklearn-color-unfitted-level-0);\n",
       "}\n",
       "\n",
       "#sk-container-id-1 div.sk-toggleable__content.fitted {\n",
       "  /* fitted */\n",
       "  background-color: var(--sklearn-color-fitted-level-0);\n",
       "}\n",
       "\n",
       "#sk-container-id-1 div.sk-toggleable__content pre {\n",
       "  margin: 0.2em;\n",
       "  border-radius: 0.25em;\n",
       "  color: var(--sklearn-color-text);\n",
       "  /* unfitted */\n",
       "  background-color: var(--sklearn-color-unfitted-level-0);\n",
       "}\n",
       "\n",
       "#sk-container-id-1 div.sk-toggleable__content.fitted pre {\n",
       "  /* unfitted */\n",
       "  background-color: var(--sklearn-color-fitted-level-0);\n",
       "}\n",
       "\n",
       "#sk-container-id-1 input.sk-toggleable__control:checked~div.sk-toggleable__content {\n",
       "  /* Expand drop-down */\n",
       "  max-height: 200px;\n",
       "  max-width: 100%;\n",
       "  overflow: auto;\n",
       "}\n",
       "\n",
       "#sk-container-id-1 input.sk-toggleable__control:checked~label.sk-toggleable__label-arrow:before {\n",
       "  content: \"▾\";\n",
       "}\n",
       "\n",
       "/* Pipeline/ColumnTransformer-specific style */\n",
       "\n",
       "#sk-container-id-1 div.sk-label input.sk-toggleable__control:checked~label.sk-toggleable__label {\n",
       "  color: var(--sklearn-color-text);\n",
       "  background-color: var(--sklearn-color-unfitted-level-2);\n",
       "}\n",
       "\n",
       "#sk-container-id-1 div.sk-label.fitted input.sk-toggleable__control:checked~label.sk-toggleable__label {\n",
       "  background-color: var(--sklearn-color-fitted-level-2);\n",
       "}\n",
       "\n",
       "/* Estimator-specific style */\n",
       "\n",
       "/* Colorize estimator box */\n",
       "#sk-container-id-1 div.sk-estimator input.sk-toggleable__control:checked~label.sk-toggleable__label {\n",
       "  /* unfitted */\n",
       "  background-color: var(--sklearn-color-unfitted-level-2);\n",
       "}\n",
       "\n",
       "#sk-container-id-1 div.sk-estimator.fitted input.sk-toggleable__control:checked~label.sk-toggleable__label {\n",
       "  /* fitted */\n",
       "  background-color: var(--sklearn-color-fitted-level-2);\n",
       "}\n",
       "\n",
       "#sk-container-id-1 div.sk-label label.sk-toggleable__label,\n",
       "#sk-container-id-1 div.sk-label label {\n",
       "  /* The background is the default theme color */\n",
       "  color: var(--sklearn-color-text-on-default-background);\n",
       "}\n",
       "\n",
       "/* On hover, darken the color of the background */\n",
       "#sk-container-id-1 div.sk-label:hover label.sk-toggleable__label {\n",
       "  color: var(--sklearn-color-text);\n",
       "  background-color: var(--sklearn-color-unfitted-level-2);\n",
       "}\n",
       "\n",
       "/* Label box, darken color on hover, fitted */\n",
       "#sk-container-id-1 div.sk-label.fitted:hover label.sk-toggleable__label.fitted {\n",
       "  color: var(--sklearn-color-text);\n",
       "  background-color: var(--sklearn-color-fitted-level-2);\n",
       "}\n",
       "\n",
       "/* Estimator label */\n",
       "\n",
       "#sk-container-id-1 div.sk-label label {\n",
       "  font-family: monospace;\n",
       "  font-weight: bold;\n",
       "  display: inline-block;\n",
       "  line-height: 1.2em;\n",
       "}\n",
       "\n",
       "#sk-container-id-1 div.sk-label-container {\n",
       "  text-align: center;\n",
       "}\n",
       "\n",
       "/* Estimator-specific */\n",
       "#sk-container-id-1 div.sk-estimator {\n",
       "  font-family: monospace;\n",
       "  border: 1px dotted var(--sklearn-color-border-box);\n",
       "  border-radius: 0.25em;\n",
       "  box-sizing: border-box;\n",
       "  margin-bottom: 0.5em;\n",
       "  /* unfitted */\n",
       "  background-color: var(--sklearn-color-unfitted-level-0);\n",
       "}\n",
       "\n",
       "#sk-container-id-1 div.sk-estimator.fitted {\n",
       "  /* fitted */\n",
       "  background-color: var(--sklearn-color-fitted-level-0);\n",
       "}\n",
       "\n",
       "/* on hover */\n",
       "#sk-container-id-1 div.sk-estimator:hover {\n",
       "  /* unfitted */\n",
       "  background-color: var(--sklearn-color-unfitted-level-2);\n",
       "}\n",
       "\n",
       "#sk-container-id-1 div.sk-estimator.fitted:hover {\n",
       "  /* fitted */\n",
       "  background-color: var(--sklearn-color-fitted-level-2);\n",
       "}\n",
       "\n",
       "/* Specification for estimator info (e.g. \"i\" and \"?\") */\n",
       "\n",
       "/* Common style for \"i\" and \"?\" */\n",
       "\n",
       ".sk-estimator-doc-link,\n",
       "a:link.sk-estimator-doc-link,\n",
       "a:visited.sk-estimator-doc-link {\n",
       "  float: right;\n",
       "  font-size: smaller;\n",
       "  line-height: 1em;\n",
       "  font-family: monospace;\n",
       "  background-color: var(--sklearn-color-background);\n",
       "  border-radius: 1em;\n",
       "  height: 1em;\n",
       "  width: 1em;\n",
       "  text-decoration: none !important;\n",
       "  margin-left: 1ex;\n",
       "  /* unfitted */\n",
       "  border: var(--sklearn-color-unfitted-level-1) 1pt solid;\n",
       "  color: var(--sklearn-color-unfitted-level-1);\n",
       "}\n",
       "\n",
       ".sk-estimator-doc-link.fitted,\n",
       "a:link.sk-estimator-doc-link.fitted,\n",
       "a:visited.sk-estimator-doc-link.fitted {\n",
       "  /* fitted */\n",
       "  border: var(--sklearn-color-fitted-level-1) 1pt solid;\n",
       "  color: var(--sklearn-color-fitted-level-1);\n",
       "}\n",
       "\n",
       "/* On hover */\n",
       "div.sk-estimator:hover .sk-estimator-doc-link:hover,\n",
       ".sk-estimator-doc-link:hover,\n",
       "div.sk-label-container:hover .sk-estimator-doc-link:hover,\n",
       ".sk-estimator-doc-link:hover {\n",
       "  /* unfitted */\n",
       "  background-color: var(--sklearn-color-unfitted-level-3);\n",
       "  color: var(--sklearn-color-background);\n",
       "  text-decoration: none;\n",
       "}\n",
       "\n",
       "div.sk-estimator.fitted:hover .sk-estimator-doc-link.fitted:hover,\n",
       ".sk-estimator-doc-link.fitted:hover,\n",
       "div.sk-label-container:hover .sk-estimator-doc-link.fitted:hover,\n",
       ".sk-estimator-doc-link.fitted:hover {\n",
       "  /* fitted */\n",
       "  background-color: var(--sklearn-color-fitted-level-3);\n",
       "  color: var(--sklearn-color-background);\n",
       "  text-decoration: none;\n",
       "}\n",
       "\n",
       "/* Span, style for the box shown on hovering the info icon */\n",
       ".sk-estimator-doc-link span {\n",
       "  display: none;\n",
       "  z-index: 9999;\n",
       "  position: relative;\n",
       "  font-weight: normal;\n",
       "  right: .2ex;\n",
       "  padding: .5ex;\n",
       "  margin: .5ex;\n",
       "  width: min-content;\n",
       "  min-width: 20ex;\n",
       "  max-width: 50ex;\n",
       "  color: var(--sklearn-color-text);\n",
       "  box-shadow: 2pt 2pt 4pt #999;\n",
       "  /* unfitted */\n",
       "  background: var(--sklearn-color-unfitted-level-0);\n",
       "  border: .5pt solid var(--sklearn-color-unfitted-level-3);\n",
       "}\n",
       "\n",
       ".sk-estimator-doc-link.fitted span {\n",
       "  /* fitted */\n",
       "  background: var(--sklearn-color-fitted-level-0);\n",
       "  border: var(--sklearn-color-fitted-level-3);\n",
       "}\n",
       "\n",
       ".sk-estimator-doc-link:hover span {\n",
       "  display: block;\n",
       "}\n",
       "\n",
       "/* \"?\"-specific style due to the `<a>` HTML tag */\n",
       "\n",
       "#sk-container-id-1 a.estimator_doc_link {\n",
       "  float: right;\n",
       "  font-size: 1rem;\n",
       "  line-height: 1em;\n",
       "  font-family: monospace;\n",
       "  background-color: var(--sklearn-color-background);\n",
       "  border-radius: 1rem;\n",
       "  height: 1rem;\n",
       "  width: 1rem;\n",
       "  text-decoration: none;\n",
       "  /* unfitted */\n",
       "  color: var(--sklearn-color-unfitted-level-1);\n",
       "  border: var(--sklearn-color-unfitted-level-1) 1pt solid;\n",
       "}\n",
       "\n",
       "#sk-container-id-1 a.estimator_doc_link.fitted {\n",
       "  /* fitted */\n",
       "  border: var(--sklearn-color-fitted-level-1) 1pt solid;\n",
       "  color: var(--sklearn-color-fitted-level-1);\n",
       "}\n",
       "\n",
       "/* On hover */\n",
       "#sk-container-id-1 a.estimator_doc_link:hover {\n",
       "  /* unfitted */\n",
       "  background-color: var(--sklearn-color-unfitted-level-3);\n",
       "  color: var(--sklearn-color-background);\n",
       "  text-decoration: none;\n",
       "}\n",
       "\n",
       "#sk-container-id-1 a.estimator_doc_link.fitted:hover {\n",
       "  /* fitted */\n",
       "  background-color: var(--sklearn-color-fitted-level-3);\n",
       "}\n",
       "</style><div id=\"sk-container-id-1\" class=\"sk-top-container\"><div class=\"sk-text-repr-fallback\"><pre>LogisticRegression(class_weight=&#x27;balanced&#x27;, max_iter=100000)</pre><b>In a Jupyter environment, please rerun this cell to show the HTML representation or trust the notebook. <br />On GitHub, the HTML representation is unable to render, please try loading this page with nbviewer.org.</b></div><div class=\"sk-container\" hidden><div class=\"sk-item\"><div class=\"sk-estimator fitted sk-toggleable\"><input class=\"sk-toggleable__control sk-hidden--visually\" id=\"sk-estimator-id-1\" type=\"checkbox\" checked><label for=\"sk-estimator-id-1\" class=\"sk-toggleable__label fitted sk-toggleable__label-arrow fitted\">&nbsp;&nbsp;LogisticRegression<a class=\"sk-estimator-doc-link fitted\" rel=\"noreferrer\" target=\"_blank\" href=\"https://scikit-learn.org/1.5/modules/generated/sklearn.linear_model.LogisticRegression.html\">?<span>Documentation for LogisticRegression</span></a><span class=\"sk-estimator-doc-link fitted\">i<span>Fitted</span></span></label><div class=\"sk-toggleable__content fitted\"><pre>LogisticRegression(class_weight=&#x27;balanced&#x27;, max_iter=100000)</pre></div> </div></div></div></div>"
      ],
      "text/plain": [
       "LogisticRegression(class_weight='balanced', max_iter=100000)"
      ]
     },
     "execution_count": 116,
     "metadata": {},
     "output_type": "execute_result"
    }
   ],
   "source": [
    "# Use balanced_weight for imbalanced dataclass\n",
    "logit = LogisticRegression(class_weight = 'balanced', max_iter = 100000)\n",
    "logit.fit(X_train, y_train)"
   ]
  },
  {
   "cell_type": "markdown",
   "metadata": {},
   "source": [
    "### Evaluating Logistic Regression Model"
   ]
  },
  {
   "cell_type": "code",
   "execution_count": 117,
   "metadata": {},
   "outputs": [],
   "source": [
    "# predict on test data\n",
    "y_pred = logit.predict(X_test)"
   ]
  },
  {
   "cell_type": "code",
   "execution_count": 140,
   "metadata": {},
   "outputs": [
    {
     "data": {
      "text/plain": [
       "array([[0.71573406, 0.24098265],\n",
       "       [0.01208813, 0.03119516]])"
      ]
     },
     "execution_count": 140,
     "metadata": {},
     "output_type": "execute_result"
    }
   ],
   "source": [
    "# confusion matrix, be careful with normalize option (we want normalize = 'true')\n",
    "contingenycy_table = confusion_matrix(y_test, y_pred, normalize = 'all')\n",
    "contingenycy_table"
   ]
  },
  {
   "cell_type": "code",
   "execution_count": 141,
   "metadata": {},
   "outputs": [
    {
     "data": {
      "text/plain": [
       "<sklearn.metrics._plot.confusion_matrix.ConfusionMatrixDisplay at 0x1627c1f73e0>"
      ]
     },
     "execution_count": 141,
     "metadata": {},
     "output_type": "execute_result"
    },
    {
     "data": {
      "image/png": "[encoded data removed]",
      "text/plain": [
       "<Figure size 640x480 with 2 Axes>"
      ]
     },
     "metadata": {},
     "output_type": "display_data"
    }
   ],
   "source": [
    "# Display Confusion Matrix\n",
    "display = ConfusionMatrixDisplay(contingenycy_table, display_labels= logit.classes_)\n",
    "display.plot(cmap=plt.cm.Blues)"
   ]
  },
  {
   "cell_type": "markdown",
   "metadata": {},
   "source": [
    "## Confusion Matrix Interpretation\n",
    "\n",
    "In this confusion matrix, class 0 represents non-returned items and class 1 represents returned items.\n",
    "\n",
    "|                | Predicted: Non-Returned | Predicted: Returned |\n",
    "|----------------|-------------------------|---------------------|\n",
    "| **Actual: Non-Returned** | 0.72 (True Negative)       | 0.24 (False Positive)  |\n",
    "| **Actual: Returned**     | 0.012 (False Negative)     | 0.031 (True Positive)  |\n",
    "\n",
    "### Key Points:\n",
    "- **True Negatives (TN)**: 0.72\n",
    "  - 72% of non-returned items were correctly predicted as non-returned.\n",
    "- **False Positives (FP)**: 0.24\n",
    "  - 24% of non-returned items were incorrectly predicted as returned.\n",
    "- **False Negatives (FN)**: 0.012\n",
    "  - 1.2% of returned items were incorrectly predicted as non-returned.\n",
    "- **True Positives (TP)**: 0.031\n",
    "  - 3.1% of returned items were correctly predicted as returned.\n",
    "\n",
    "### Summary:\n",
    "- This confusion matrix suggests that the model is more effective at identifying non-returned items than returned items.\n"
   ]
  },
  {
   "cell_type": "markdown",
   "metadata": {},
   "source": [
    "The robust matrix for classification for imbalanced classes is **ROUC-AUC** score and **F1-Score**."
   ]
  },
  {
   "cell_type": "code",
   "execution_count": 144,
   "metadata": {},
   "outputs": [
    {
     "name": "stdout",
     "output_type": "stream",
     "text": [
      "              precision    recall  f1-score   support\n",
      "\n",
      "           0       0.98      0.75      0.85      9814\n",
      "           1       0.11      0.72      0.20       444\n",
      "\n",
      "    accuracy                           0.75     10258\n",
      "   macro avg       0.55      0.73      0.52     10258\n",
      "weighted avg       0.95      0.75      0.82     10258\n",
      "\n"
     ]
    }
   ],
   "source": [
    "# weighted avg is the most significant for the imbalanced data sets\n",
    "print(classification_report(y_test, y_pred))"
   ]
  },
  {
   "cell_type": "markdown",
   "metadata": {},
   "source": [
    "#### ROC-AUC Curve"
   ]
  },
  {
   "cell_type": "code",
   "execution_count": 167,
   "metadata": {},
   "outputs": [
    {
     "name": "stdout",
     "output_type": "stream",
     "text": [
      "0.7344178292823085\n"
     ]
    }
   ],
   "source": [
    "# print auc score, y_pred is using 0.5 threshold\n",
    "print(roc_auc_score(y_test, y_pred))"
   ]
  },
  {
   "cell_type": "code",
   "execution_count": 168,
   "metadata": {},
   "outputs": [],
   "source": [
    "# Compute ROC curve\n",
    "fpr, tpr, thresholds = roc_curve(y_test, logit.predict_proba(X_test)[:, 1])"
   ]
  },
  {
   "cell_type": "code",
   "execution_count": 169,
   "metadata": {},
   "outputs": [
    {
     "name": "stdout",
     "output_type": "stream",
     "text": [
      "AUC: 0.82\n"
     ]
    }
   ],
   "source": [
    "# Predict probabilities\n",
    "y_prob = logit.predict_proba(X_test)[:, 1]\n",
    "\n",
    "# Calculate AUC using all distinct probabilities value in y_prob\n",
    "roc_auc = roc_auc_score(y_test, y_prob)\n",
    "print(f'AUC: {roc_auc:.2f}')"
   ]
  },
  {
   "cell_type": "code",
   "execution_count": 170,
   "metadata": {},
   "outputs": [
    {
     "data": {
      "image/png": "[encoded data removed]",
      "text/plain": [
       "<Figure size 640x480 with 1 Axes>"
      ]
     },
     "metadata": {},
     "output_type": "display_data"
    }
   ],
   "source": [
    "# Display ROC curve using the optimal roc_auc score using all possible probability threshold\n",
    "roc_display = RocCurveDisplay(fpr = fpr, tpr = tpr, roc_auc = roc_auc, estimator_name='logit')\n",
    "roc_display.plot()\n",
    "\n",
    "plt.show()"
   ]
  },
  {
   "cell_type": "markdown",
   "metadata": {},
   "source": [
    "### Model 2: Random Forest Classifier"
   ]
  },
  {
   "cell_type": "code",
   "execution_count": 172,
   "metadata": {},
   "outputs": [
    {
     "data": {
      "text/html": [
       "<style>#sk-container-id-2 {\n",
       "  /* Definition of color scheme common for light and dark mode */\n",
       "  --sklearn-color-text: black;\n",
       "  --sklearn-color-line: gray;\n",
       "  /* Definition of color scheme for unfitted estimators */\n",
       "  --sklearn-color-unfitted-level-0: #fff5e6;\n",
       "  --sklearn-color-unfitted-level-1: #f6e4d2;\n",
       "  --sklearn-color-unfitted-level-2: #ffe0b3;\n",
       "  --sklearn-color-unfitted-level-3: chocolate;\n",
       "  /* Definition of color scheme for fitted estimators */\n",
       "  --sklearn-color-fitted-level-0: #f0f8ff;\n",
       "  --sklearn-color-fitted-level-1: #d4ebff;\n",
       "  --sklearn-color-fitted-level-2: #b3dbfd;\n",
       "  --sklearn-color-fitted-level-3: cornflowerblue;\n",
       "\n",
       "  /* Specific color for light theme */\n",
       "  --sklearn-color-text-on-default-background: var(--sg-text-color, var(--theme-code-foreground, var(--jp-content-font-color1, black)));\n",
       "  --sklearn-color-background: var(--sg-background-color, var(--theme-background, var(--jp-layout-color0, white)));\n",
       "  --sklearn-color-border-box: var(--sg-text-color, var(--theme-code-foreground, var(--jp-content-font-color1, black)));\n",
       "  --sklearn-color-icon: #696969;\n",
       "\n",
       "  @media (prefers-color-scheme: dark) {\n",
       "    /* Redefinition of color scheme for dark theme */\n",
       "    --sklearn-color-text-on-default-background: var(--sg-text-color, var(--theme-code-foreground, var(--jp-content-font-color1, white)));\n",
       "    --sklearn-color-background: var(--sg-background-color, var(--theme-background, var(--jp-layout-color0, #111)));\n",
       "    --sklearn-color-border-box: var(--sg-text-color, var(--theme-code-foreground, var(--jp-content-font-color1, white)));\n",
       "    --sklearn-color-icon: #878787;\n",
       "  }\n",
       "}\n",
       "\n",
       "#sk-container-id-2 {\n",
       "  color: var(--sklearn-color-text);\n",
       "}\n",
       "\n",
       "#sk-container-id-2 pre {\n",
       "  padding: 0;\n",
       "}\n",
       "\n",
       "#sk-container-id-2 input.sk-hidden--visually {\n",
       "  border: 0;\n",
       "  clip: rect(1px 1px 1px 1px);\n",
       "  clip: rect(1px, 1px, 1px, 1px);\n",
       "  height: 1px;\n",
       "  margin: -1px;\n",
       "  overflow: hidden;\n",
       "  padding: 0;\n",
       "  position: absolute;\n",
       "  width: 1px;\n",
       "}\n",
       "\n",
       "#sk-container-id-2 div.sk-dashed-wrapped {\n",
       "  border: 1px dashed var(--sklearn-color-line);\n",
       "  margin: 0 0.4em 0.5em 0.4em;\n",
       "  box-sizing: border-box;\n",
       "  padding-bottom: 0.4em;\n",
       "  background-color: var(--sklearn-color-background);\n",
       "}\n",
       "\n",
       "#sk-container-id-2 div.sk-container {\n",
       "  /* jupyter's `normalize.less` sets `[hidden] { display: none; }`\n",
       "     but bootstrap.min.css set `[hidden] { display: none !important; }`\n",
       "     so we also need the `!important` here to be able to override the\n",
       "     default hidden behavior on the sphinx rendered scikit-learn.org.\n",
       "     See: https://github.com/scikit-learn/scikit-learn/issues/21755 */\n",
       "  display: inline-block !important;\n",
       "  position: relative;\n",
       "}\n",
       "\n",
       "#sk-container-id-2 div.sk-text-repr-fallback {\n",
       "  display: none;\n",
       "}\n",
       "\n",
       "div.sk-parallel-item,\n",
       "div.sk-serial,\n",
       "div.sk-item {\n",
       "  /* draw centered vertical line to link estimators */\n",
       "  background-image: linear-gradient(var(--sklearn-color-text-on-default-background), var(--sklearn-color-text-on-default-background));\n",
       "  background-size: 2px 100%;\n",
       "  background-repeat: no-repeat;\n",
       "  background-position: center center;\n",
       "}\n",
       "\n",
       "/* Parallel-specific style estimator block */\n",
       "\n",
       "#sk-container-id-2 div.sk-parallel-item::after {\n",
       "  content: \"\";\n",
       "  width: 100%;\n",
       "  border-bottom: 2px solid var(--sklearn-color-text-on-default-background);\n",
       "  flex-grow: 1;\n",
       "}\n",
       "\n",
       "#sk-container-id-2 div.sk-parallel {\n",
       "  display: flex;\n",
       "  align-items: stretch;\n",
       "  justify-content: center;\n",
       "  background-color: var(--sklearn-color-background);\n",
       "  position: relative;\n",
       "}\n",
       "\n",
       "#sk-container-id-2 div.sk-parallel-item {\n",
       "  display: flex;\n",
       "  flex-direction: column;\n",
       "}\n",
       "\n",
       "#sk-container-id-2 div.sk-parallel-item:first-child::after {\n",
       "  align-self: flex-end;\n",
       "  width: 50%;\n",
       "}\n",
       "\n",
       "#sk-container-id-2 div.sk-parallel-item:last-child::after {\n",
       "  align-self: flex-start;\n",
       "  width: 50%;\n",
       "}\n",
       "\n",
       "#sk-container-id-2 div.sk-parallel-item:only-child::after {\n",
       "  width: 0;\n",
       "}\n",
       "\n",
       "/* Serial-specific style estimator block */\n",
       "\n",
       "#sk-container-id-2 div.sk-serial {\n",
       "  display: flex;\n",
       "  flex-direction: column;\n",
       "  align-items: center;\n",
       "  background-color: var(--sklearn-color-background);\n",
       "  padding-right: 1em;\n",
       "  padding-left: 1em;\n",
       "}\n",
       "\n",
       "\n",
       "/* Toggleable style: style used for estimator/Pipeline/ColumnTransformer box that is\n",
       "clickable and can be expanded/collapsed.\n",
       "- Pipeline and ColumnTransformer use this feature and define the default style\n",
       "- Estimators will overwrite some part of the style using the `sk-estimator` class\n",
       "*/\n",
       "\n",
       "/* Pipeline and ColumnTransformer style (default) */\n",
       "\n",
       "#sk-container-id-2 div.sk-toggleable {\n",
       "  /* Default theme specific background. It is overwritten whether we have a\n",
       "  specific estimator or a Pipeline/ColumnTransformer */\n",
       "  background-color: var(--sklearn-color-background);\n",
       "}\n",
       "\n",
       "/* Toggleable label */\n",
       "#sk-container-id-2 label.sk-toggleable__label {\n",
       "  cursor: pointer;\n",
       "  display: block;\n",
       "  width: 100%;\n",
       "  margin-bottom: 0;\n",
       "  padding: 0.5em;\n",
       "  box-sizing: border-box;\n",
       "  text-align: center;\n",
       "}\n",
       "\n",
       "#sk-container-id-2 label.sk-toggleable__label-arrow:before {\n",
       "  /* Arrow on the left of the label */\n",
       "  content: \"▸\";\n",
       "  float: left;\n",
       "  margin-right: 0.25em;\n",
       "  color: var(--sklearn-color-icon);\n",
       "}\n",
       "\n",
       "#sk-container-id-2 label.sk-toggleable__label-arrow:hover:before {\n",
       "  color: var(--sklearn-color-text);\n",
       "}\n",
       "\n",
       "/* Toggleable content - dropdown */\n",
       "\n",
       "#sk-container-id-2 div.sk-toggleable__content {\n",
       "  max-height: 0;\n",
       "  max-width: 0;\n",
       "  overflow: hidden;\n",
       "  text-align: left;\n",
       "  /* unfitted */\n",
       "  background-color: var(--sklearn-color-unfitted-level-0);\n",
       "}\n",
       "\n",
       "#sk-container-id-2 div.sk-toggleable__content.fitted {\n",
       "  /* fitted */\n",
       "  background-color: var(--sklearn-color-fitted-level-0);\n",
       "}\n",
       "\n",
       "#sk-container-id-2 div.sk-toggleable__content pre {\n",
       "  margin: 0.2em;\n",
       "  border-radius: 0.25em;\n",
       "  color: var(--sklearn-color-text);\n",
       "  /* unfitted */\n",
       "  background-color: var(--sklearn-color-unfitted-level-0);\n",
       "}\n",
       "\n",
       "#sk-container-id-2 div.sk-toggleable__content.fitted pre {\n",
       "  /* unfitted */\n",
       "  background-color: var(--sklearn-color-fitted-level-0);\n",
       "}\n",
       "\n",
       "#sk-container-id-2 input.sk-toggleable__control:checked~div.sk-toggleable__content {\n",
       "  /* Expand drop-down */\n",
       "  max-height: 200px;\n",
       "  max-width: 100%;\n",
       "  overflow: auto;\n",
       "}\n",
       "\n",
       "#sk-container-id-2 input.sk-toggleable__control:checked~label.sk-toggleable__label-arrow:before {\n",
       "  content: \"▾\";\n",
       "}\n",
       "\n",
       "/* Pipeline/ColumnTransformer-specific style */\n",
       "\n",
       "#sk-container-id-2 div.sk-label input.sk-toggleable__control:checked~label.sk-toggleable__label {\n",
       "  color: var(--sklearn-color-text);\n",
       "  background-color: var(--sklearn-color-unfitted-level-2);\n",
       "}\n",
       "\n",
       "#sk-container-id-2 div.sk-label.fitted input.sk-toggleable__control:checked~label.sk-toggleable__label {\n",
       "  background-color: var(--sklearn-color-fitted-level-2);\n",
       "}\n",
       "\n",
       "/* Estimator-specific style */\n",
       "\n",
       "/* Colorize estimator box */\n",
       "#sk-container-id-2 div.sk-estimator input.sk-toggleable__control:checked~label.sk-toggleable__label {\n",
       "  /* unfitted */\n",
       "  background-color: var(--sklearn-color-unfitted-level-2);\n",
       "}\n",
       "\n",
       "#sk-container-id-2 div.sk-estimator.fitted input.sk-toggleable__control:checked~label.sk-toggleable__label {\n",
       "  /* fitted */\n",
       "  background-color: var(--sklearn-color-fitted-level-2);\n",
       "}\n",
       "\n",
       "#sk-container-id-2 div.sk-label label.sk-toggleable__label,\n",
       "#sk-container-id-2 div.sk-label label {\n",
       "  /* The background is the default theme color */\n",
       "  color: var(--sklearn-color-text-on-default-background);\n",
       "}\n",
       "\n",
       "/* On hover, darken the color of the background */\n",
       "#sk-container-id-2 div.sk-label:hover label.sk-toggleable__label {\n",
       "  color: var(--sklearn-color-text);\n",
       "  background-color: var(--sklearn-color-unfitted-level-2);\n",
       "}\n",
       "\n",
       "/* Label box, darken color on hover, fitted */\n",
       "#sk-container-id-2 div.sk-label.fitted:hover label.sk-toggleable__label.fitted {\n",
       "  color: var(--sklearn-color-text);\n",
       "  background-color: var(--sklearn-color-fitted-level-2);\n",
       "}\n",
       "\n",
       "/* Estimator label */\n",
       "\n",
       "#sk-container-id-2 div.sk-label label {\n",
       "  font-family: monospace;\n",
       "  font-weight: bold;\n",
       "  display: inline-block;\n",
       "  line-height: 1.2em;\n",
       "}\n",
       "\n",
       "#sk-container-id-2 div.sk-label-container {\n",
       "  text-align: center;\n",
       "}\n",
       "\n",
       "/* Estimator-specific */\n",
       "#sk-container-id-2 div.sk-estimator {\n",
       "  font-family: monospace;\n",
       "  border: 1px dotted var(--sklearn-color-border-box);\n",
       "  border-radius: 0.25em;\n",
       "  box-sizing: border-box;\n",
       "  margin-bottom: 0.5em;\n",
       "  /* unfitted */\n",
       "  background-color: var(--sklearn-color-unfitted-level-0);\n",
       "}\n",
       "\n",
       "#sk-container-id-2 div.sk-estimator.fitted {\n",
       "  /* fitted */\n",
       "  background-color: var(--sklearn-color-fitted-level-0);\n",
       "}\n",
       "\n",
       "/* on hover */\n",
       "#sk-container-id-2 div.sk-estimator:hover {\n",
       "  /* unfitted */\n",
       "  background-color: var(--sklearn-color-unfitted-level-2);\n",
       "}\n",
       "\n",
       "#sk-container-id-2 div.sk-estimator.fitted:hover {\n",
       "  /* fitted */\n",
       "  background-color: var(--sklearn-color-fitted-level-2);\n",
       "}\n",
       "\n",
       "/* Specification for estimator info (e.g. \"i\" and \"?\") */\n",
       "\n",
       "/* Common style for \"i\" and \"?\" */\n",
       "\n",
       ".sk-estimator-doc-link,\n",
       "a:link.sk-estimator-doc-link,\n",
       "a:visited.sk-estimator-doc-link {\n",
       "  float: right;\n",
       "  font-size: smaller;\n",
       "  line-height: 1em;\n",
       "  font-family: monospace;\n",
       "  background-color: var(--sklearn-color-background);\n",
       "  border-radius: 1em;\n",
       "  height: 1em;\n",
       "  width: 1em;\n",
       "  text-decoration: none !important;\n",
       "  margin-left: 1ex;\n",
       "  /* unfitted */\n",
       "  border: var(--sklearn-color-unfitted-level-1) 1pt solid;\n",
       "  color: var(--sklearn-color-unfitted-level-1);\n",
       "}\n",
       "\n",
       ".sk-estimator-doc-link.fitted,\n",
       "a:link.sk-estimator-doc-link.fitted,\n",
       "a:visited.sk-estimator-doc-link.fitted {\n",
       "  /* fitted */\n",
       "  border: var(--sklearn-color-fitted-level-1) 1pt solid;\n",
       "  color: var(--sklearn-color-fitted-level-1);\n",
       "}\n",
       "\n",
       "/* On hover */\n",
       "div.sk-estimator:hover .sk-estimator-doc-link:hover,\n",
       ".sk-estimator-doc-link:hover,\n",
       "div.sk-label-container:hover .sk-estimator-doc-link:hover,\n",
       ".sk-estimator-doc-link:hover {\n",
       "  /* unfitted */\n",
       "  background-color: var(--sklearn-color-unfitted-level-3);\n",
       "  color: var(--sklearn-color-background);\n",
       "  text-decoration: none;\n",
       "}\n",
       "\n",
       "div.sk-estimator.fitted:hover .sk-estimator-doc-link.fitted:hover,\n",
       ".sk-estimator-doc-link.fitted:hover,\n",
       "div.sk-label-container:hover .sk-estimator-doc-link.fitted:hover,\n",
       ".sk-estimator-doc-link.fitted:hover {\n",
       "  /* fitted */\n",
       "  background-color: var(--sklearn-color-fitted-level-3);\n",
       "  color: var(--sklearn-color-background);\n",
       "  text-decoration: none;\n",
       "}\n",
       "\n",
       "/* Span, style for the box shown on hovering the info icon */\n",
       ".sk-estimator-doc-link span {\n",
       "  display: none;\n",
       "  z-index: 9999;\n",
       "  position: relative;\n",
       "  font-weight: normal;\n",
       "  right: .2ex;\n",
       "  padding: .5ex;\n",
       "  margin: .5ex;\n",
       "  width: min-content;\n",
       "  min-width: 20ex;\n",
       "  max-width: 50ex;\n",
       "  color: var(--sklearn-color-text);\n",
       "  box-shadow: 2pt 2pt 4pt #999;\n",
       "  /* unfitted */\n",
       "  background: var(--sklearn-color-unfitted-level-0);\n",
       "  border: .5pt solid var(--sklearn-color-unfitted-level-3);\n",
       "}\n",
       "\n",
       ".sk-estimator-doc-link.fitted span {\n",
       "  /* fitted */\n",
       "  background: var(--sklearn-color-fitted-level-0);\n",
       "  border: var(--sklearn-color-fitted-level-3);\n",
       "}\n",
       "\n",
       ".sk-estimator-doc-link:hover span {\n",
       "  display: block;\n",
       "}\n",
       "\n",
       "/* \"?\"-specific style due to the `<a>` HTML tag */\n",
       "\n",
       "#sk-container-id-2 a.estimator_doc_link {\n",
       "  float: right;\n",
       "  font-size: 1rem;\n",
       "  line-height: 1em;\n",
       "  font-family: monospace;\n",
       "  background-color: var(--sklearn-color-background);\n",
       "  border-radius: 1rem;\n",
       "  height: 1rem;\n",
       "  width: 1rem;\n",
       "  text-decoration: none;\n",
       "  /* unfitted */\n",
       "  color: var(--sklearn-color-unfitted-level-1);\n",
       "  border: var(--sklearn-color-unfitted-level-1) 1pt solid;\n",
       "}\n",
       "\n",
       "#sk-container-id-2 a.estimator_doc_link.fitted {\n",
       "  /* fitted */\n",
       "  border: var(--sklearn-color-fitted-level-1) 1pt solid;\n",
       "  color: var(--sklearn-color-fitted-level-1);\n",
       "}\n",
       "\n",
       "/* On hover */\n",
       "#sk-container-id-2 a.estimator_doc_link:hover {\n",
       "  /* unfitted */\n",
       "  background-color: var(--sklearn-color-unfitted-level-3);\n",
       "  color: var(--sklearn-color-background);\n",
       "  text-decoration: none;\n",
       "}\n",
       "\n",
       "#sk-container-id-2 a.estimator_doc_link.fitted:hover {\n",
       "  /* fitted */\n",
       "  background-color: var(--sklearn-color-fitted-level-3);\n",
       "}\n",
       "</style><div id=\"sk-container-id-2\" class=\"sk-top-container\"><div class=\"sk-text-repr-fallback\"><pre>RandomForestClassifier(class_weight=&#x27;balanced&#x27;, max_depth=7, n_jobs=-1)</pre><b>In a Jupyter environment, please rerun this cell to show the HTML representation or trust the notebook. <br />On GitHub, the HTML representation is unable to render, please try loading this page with nbviewer.org.</b></div><div class=\"sk-container\" hidden><div class=\"sk-item\"><div class=\"sk-estimator fitted sk-toggleable\"><input class=\"sk-toggleable__control sk-hidden--visually\" id=\"sk-estimator-id-2\" type=\"checkbox\" checked><label for=\"sk-estimator-id-2\" class=\"sk-toggleable__label fitted sk-toggleable__label-arrow fitted\">&nbsp;&nbsp;RandomForestClassifier<a class=\"sk-estimator-doc-link fitted\" rel=\"noreferrer\" target=\"_blank\" href=\"https://scikit-learn.org/1.5/modules/generated/sklearn.ensemble.RandomForestClassifier.html\">?<span>Documentation for RandomForestClassifier</span></a><span class=\"sk-estimator-doc-link fitted\">i<span>Fitted</span></span></label><div class=\"sk-toggleable__content fitted\"><pre>RandomForestClassifier(class_weight=&#x27;balanced&#x27;, max_depth=7, n_jobs=-1)</pre></div> </div></div></div></div>"
      ],
      "text/plain": [
       "RandomForestClassifier(class_weight='balanced', max_depth=7, n_jobs=-1)"
      ]
     },
     "execution_count": 172,
     "metadata": {},
     "output_type": "execute_result"
    }
   ],
   "source": [
    "rf = RandomForestClassifier(class_weight = 'balanced', n_jobs = -1, max_depth = 7)\n",
    "rf.fit(X_train, y_train)"
   ]
  },
  {
   "cell_type": "code",
   "execution_count": 173,
   "metadata": {},
   "outputs": [],
   "source": [
    "y_pred = rf.predict(X_test)"
   ]
  },
  {
   "cell_type": "code",
   "execution_count": 174,
   "metadata": {},
   "outputs": [
    {
     "name": "stdout",
     "output_type": "stream",
     "text": [
      "              precision    recall  f1-score   support\n",
      "\n",
      "           0       0.99      0.56      0.71      9814\n",
      "           1       0.08      0.91      0.16       444\n",
      "\n",
      "    accuracy                           0.57     10258\n",
      "   macro avg       0.54      0.73      0.43     10258\n",
      "weighted avg       0.95      0.57      0.69     10258\n",
      "\n"
     ]
    }
   ],
   "source": [
    "print(classification_report(y_test, y_pred))"
   ]
  },
  {
   "cell_type": "code",
   "execution_count": 176,
   "metadata": {},
   "outputs": [
    {
     "data": {
      "text/plain": [
       "np.float64(0.7323085516737442)"
      ]
     },
     "execution_count": 176,
     "metadata": {},
     "output_type": "execute_result"
    }
   ],
   "source": [
    "# uses probability threshold as 0.5\n",
    "roc_auc_score(y_test, y_pred)"
   ]
  },
  {
   "cell_type": "code",
   "execution_count": 179,
   "metadata": {},
   "outputs": [
    {
     "data": {
      "image/png": "[encoded data removed]",
      "text/plain": [
       "<Figure size 640x480 with 1 Axes>"
      ]
     },
     "metadata": {},
     "output_type": "display_data"
    }
   ],
   "source": [
    "# Display ROC curve using from_estimator, note the auc is different than using roc_auc_score(y_test, y_pred)\n",
    "roc_display = RocCurveDisplay.from_estimator(rf, X_test, y_test, name = 'Random Forest Classifier')\n"
   ]
  },
  {
   "cell_type": "markdown",
   "metadata": {},
   "source": [
    "### Evaluating Models\n",
    "\n",
    "- **What is the best metric to evaluate your model if the data is strongly imbalanced?**\n",
    "    - Accuracy is not a good metric because the data is strongly imbalanced.\n",
    "    - The ROC AUC is a good (general) metric in this case because it is robust to the class imbalance.\n",
    "\n",
    "- **Now we have multiple models, which one would you pick?**\n",
    "    - Generally, the one with the best ROC AUC.\n",
    "\n",
    "- **Can we get any clue from the confusion matrix? What is the meaning of precision and recall in this case? Which one do you care the most? How will our model help the stakeholder make decisions?**\n",
    "    - It really depends on your understanding of the business model.\n",
    "    - For example, if I find a product that has a high probability of being returned, I would recommend my stakeholder to put it on final sale so the customer gets it for a lower price but they are not allowed to return the product.\n",
    "    - However, if the product turns out to be just fine and we are losing profit because we give it a discount, in that case, I would prefer a model that has relatively good accuracy with better precision (lower Type 1 error / False Positives).\n"
   ]
  },
  {
   "cell_type": "markdown",
   "metadata": {},
   "source": [
    "### Feature Engineering Revisit\n",
    "\n",
    "\n",
    "- The `Product.ID.Return.Count` (and `Product.ID.Return.Ratio`) feature was wrong. If we want to use the training dataset to fit a model and the test dataset to test a model, we assume the test dataset is new data we get after fitting the model. But using the whole dataset to count the times will actually indicate these items will be returned in the test dataset. That's why the process is invalid.\n",
    "- The easiest way to fix the problem is to split the train and test set by different timespans. You can use 2012-2014 data for training and 2015 data for testing. It will mimic the same scenario in real life: you don't know what's going to happen in the future. :)\n",
    "- A great blog post from fastai discusses this problem.\n"
   ]
  },
  {
   "cell_type": "code",
   "execution_count": 180,
   "metadata": {},
   "outputs": [
    {
     "data": {
      "text/plain": [
       "Order.Year\n",
       "2015    17531\n",
       "2014    13799\n",
       "2013    10962\n",
       "2012     8998\n",
       "Name: count, dtype: int64"
      ]
     },
     "execution_count": 180,
     "metadata": {},
     "output_type": "execute_result"
    }
   ],
   "source": [
    "orders_merged['Order.Year'].value_counts()"
   ]
  }
 ],
 "metadata": {
  "kernelspec": {
   "display_name": "Python 3",
   "language": "python",
   "name": "python3"
  },
  "language_info": {
   "codemirror_mode": {
    "name": "ipython",
    "version": 3
   },
   "file_extension": ".py",
   "mimetype": "text/x-python",
   "name": "python",
   "nbconvert_exporter": "python",
   "pygments_lexer": "ipython3",
   "version": "3.12.4"
  }
 },
 "nbformat": 4,
 "nbformat_minor": 2
}
